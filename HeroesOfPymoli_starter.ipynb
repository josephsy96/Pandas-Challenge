{
 "cells": [
  {
   "cell_type": "markdown",
   "metadata": {},
   "source": [
    "### Note\n",
    "* Instructions have been included for each segment. You do not have to follow them exactly, but they are included to help you think through the steps."
   ]
  },
  {
   "cell_type": "code",
   "execution_count": 317,
   "metadata": {},
   "outputs": [
    {
     "data": {
      "text/html": "<div>\n<style scoped>\n    .dataframe tbody tr th:only-of-type {\n        vertical-align: middle;\n    }\n\n    .dataframe tbody tr th {\n        vertical-align: top;\n    }\n\n    .dataframe thead th {\n        text-align: right;\n    }\n</style>\n<table border=\"1\" class=\"dataframe\">\n  <thead>\n    <tr style=\"text-align: right;\">\n      <th></th>\n      <th>Purchase ID</th>\n      <th>SN</th>\n      <th>Age</th>\n      <th>Gender</th>\n      <th>Item ID</th>\n      <th>Item Name</th>\n      <th>Price</th>\n    </tr>\n  </thead>\n  <tbody>\n    <tr>\n      <th>0</th>\n      <td>0</td>\n      <td>Lisim78</td>\n      <td>20</td>\n      <td>Male</td>\n      <td>108</td>\n      <td>Extraction, Quickblade Of Trembling Hands</td>\n      <td>3.53</td>\n    </tr>\n    <tr>\n      <th>1</th>\n      <td>1</td>\n      <td>Lisovynya38</td>\n      <td>40</td>\n      <td>Male</td>\n      <td>143</td>\n      <td>Frenzied Scimitar</td>\n      <td>1.56</td>\n    </tr>\n    <tr>\n      <th>2</th>\n      <td>2</td>\n      <td>Ithergue48</td>\n      <td>24</td>\n      <td>Male</td>\n      <td>92</td>\n      <td>Final Critic</td>\n      <td>4.88</td>\n    </tr>\n    <tr>\n      <th>3</th>\n      <td>3</td>\n      <td>Chamassasya86</td>\n      <td>24</td>\n      <td>Male</td>\n      <td>100</td>\n      <td>Blindscythe</td>\n      <td>3.27</td>\n    </tr>\n    <tr>\n      <th>4</th>\n      <td>4</td>\n      <td>Iskosia90</td>\n      <td>23</td>\n      <td>Male</td>\n      <td>131</td>\n      <td>Fury</td>\n      <td>1.44</td>\n    </tr>\n  </tbody>\n</table>\n</div>",
      "text/plain": "   Purchase ID             SN  Age Gender  Item ID  \\\n0            0        Lisim78   20   Male      108   \n1            1    Lisovynya38   40   Male      143   \n2            2     Ithergue48   24   Male       92   \n3            3  Chamassasya86   24   Male      100   \n4            4      Iskosia90   23   Male      131   \n\n                                   Item Name  Price  \n0  Extraction, Quickblade Of Trembling Hands   3.53  \n1                          Frenzied Scimitar   1.56  \n2                               Final Critic   4.88  \n3                                Blindscythe   3.27  \n4                                       Fury   1.44  "
     },
     "execution_count": 317,
     "metadata": {},
     "output_type": "execute_result"
    }
   ],
   "source": [
    "# Dependencies and Setup\n",
    "import pandas as pd\n",
    "\n",
    "# File to Load (Remember to Change These)\n",
    "file_to_load = \"Resources/purchase_data.csv\"\n",
    "\n",
    "# Read Purchasing File and store into Pandas data frame\n",
    "purchase_data = pd.read_csv(file_to_load)\n",
    "purchase_data.head()"
   ]
  },
  {
   "cell_type": "markdown",
   "metadata": {},
   "source": [
    "## Player Count"
   ]
  },
  {
   "cell_type": "markdown",
   "metadata": {},
   "source": [
    "* Display the total number of players\n"
   ]
  },
  {
   "cell_type": "code",
   "execution_count": 318,
   "metadata": {},
   "outputs": [
    {
     "data": {
      "text/plain": "576"
     },
     "execution_count": 318,
     "metadata": {},
     "output_type": "execute_result"
    }
   ],
   "source": [
    "#This is to display the total number of players\n",
    "total_players = len(purchase_data['SN'].unique())\n",
    "total_players\n",
    "\n"
   ]
  },
  {
   "cell_type": "markdown",
   "metadata": {},
   "source": [
    "## Purchasing Analysis (Total)"
   ]
  },
  {
   "cell_type": "markdown",
   "metadata": {},
   "source": [
    "* Run basic calculations to obtain number of unique items, average price, etc.\n",
    "\n",
    "\n",
    "* Create a summary data frame to hold the results\n",
    "\n",
    "\n",
    "* Optional: give the displayed data cleaner formatting\n",
    "\n",
    "\n",
    "* Display the summary data frame\n"
   ]
  },
  {
   "cell_type": "code",
   "execution_count": 319,
   "metadata": {},
   "outputs": [],
   "source": [
    "#This is to find the Number of Unique Items\n",
    "unique_items = len(purchase_data['Item Name'].unique())\n",
    "\n",
    "#This is to find the average price \n",
    "average_price = round(purchase_data['Price'].mean(),2)\n",
    "\n",
    "#This is the find the number of purchases \n",
    "number_purchases = len(purchase_data['Purchase ID'])\n",
    "\n",
    "#This to find the total revenue\n",
    "total_revenue = round(purchase_data['Price'].sum(),2)\n"
   ]
  },
  {
   "cell_type": "code",
   "execution_count": 320,
   "metadata": {},
   "outputs": [
    {
     "data": {
      "text/html": "<div>\n<style scoped>\n    .dataframe tbody tr th:only-of-type {\n        vertical-align: middle;\n    }\n\n    .dataframe tbody tr th {\n        vertical-align: top;\n    }\n\n    .dataframe thead th {\n        text-align: right;\n    }\n</style>\n<table border=\"1\" class=\"dataframe\">\n  <thead>\n    <tr style=\"text-align: right;\">\n      <th></th>\n      <th>Unique Item Count</th>\n      <th>Average Price</th>\n      <th>Total Number of Purchases</th>\n      <th>Total Revenue</th>\n    </tr>\n  </thead>\n  <tbody>\n    <tr>\n      <th>0</th>\n      <td>179</td>\n      <td>$3.05</td>\n      <td>780</td>\n      <td>$2,379.77</td>\n    </tr>\n  </tbody>\n</table>\n</div>",
      "text/plain": "   Unique Item Count Average Price  Total Number of Purchases Total Revenue\n0                179         $3.05                        780     $2,379.77"
     },
     "execution_count": 320,
     "metadata": {},
     "output_type": "execute_result"
    }
   ],
   "source": [
    "#Create a new summary dataframe\n",
    "pur_sum = pd.DataFrame({'Unique Item Count':[unique_items], \n",
    "                        'Average Price':[average_price],\n",
    "                        'Total Number of Purchases':[number_purchases],\n",
    "                        'Total Revenue':[total_revenue]})\n",
    "pur_sum['Total Revenue'] = pur_sum['Total Revenue'].astype(float).map(\"${:,.2f}\".format)\n",
    "pur_sum['Average Price'] = pur_sum['Average Price'].astype(float).map(\"${:,.2f}\".format)\n",
    "pur_sum\n"
   ]
  },
  {
   "cell_type": "markdown",
   "metadata": {},
   "source": [
    "## Gender Demographics"
   ]
  },
  {
   "cell_type": "markdown",
   "metadata": {},
   "source": [
    "* Percentage and Count of Male Players\n",
    "\n",
    "\n",
    "* Percentage and Count of Female Players\n",
    "\n",
    "\n",
    "* Percentage and Count of Other / Non-Disclosed\n",
    "\n",
    "\n"
   ]
  },
  {
   "cell_type": "code",
   "execution_count": 321,
   "metadata": {},
   "outputs": [
    {
     "data": {
      "text/plain": "array(['Male', 'Other / Non-Disclosed', 'Female'], dtype=object)"
     },
     "execution_count": 321,
     "metadata": {},
     "output_type": "execute_result"
    }
   ],
   "source": [
    "purchase_data['Gender'].unique()"
   ]
  },
  {
   "cell_type": "code",
   "execution_count": 322,
   "metadata": {},
   "outputs": [],
   "source": [
    "#Find total gender counts based on sex\n",
    "male = purchase_data.loc[purchase_data['Gender'] == 'Male',:]\n",
    "female = purchase_data.loc[purchase_data['Gender'] == 'Female',:]\n",
    "other = purchase_data.loc[purchase_data['Gender'] == 'Other / Non-Disclosed',:]\n",
    "\n",
    "#find unique gender counts\n",
    "male_uni = len(male['SN'].unique())\n",
    "female_uni = len(female['SN'].unique())\n",
    "other_uni = len(other['SN'].unique())\n",
    "#find pct gender\n",
    "male_pct = round((male_uni/total_players)*100,2)\n",
    "female_pct = round((female_uni/total_players)*100,2)\n",
    "other_pct = round((other_uni/total_players)*100,2)\n",
    "\n",
    "\n",
    "#find percentage of sex\n",
    "#ct_gender = round((total_gender/number_purchases)*100,2)"
   ]
  },
  {
   "cell_type": "code",
   "execution_count": 323,
   "metadata": {},
   "outputs": [
    {
     "data": {
      "text/html": "<div>\n<style scoped>\n    .dataframe tbody tr th:only-of-type {\n        vertical-align: middle;\n    }\n\n    .dataframe tbody tr th {\n        vertical-align: top;\n    }\n\n    .dataframe thead th {\n        text-align: right;\n    }\n</style>\n<table border=\"1\" class=\"dataframe\">\n  <thead>\n    <tr style=\"text-align: right;\">\n      <th></th>\n      <th>Total Count</th>\n      <th>Percentage of Players</th>\n    </tr>\n  </thead>\n  <tbody>\n    <tr>\n      <th>Female</th>\n      <td>113</td>\n      <td>14.06</td>\n    </tr>\n    <tr>\n      <th>Male</th>\n      <td>652</td>\n      <td>84.03</td>\n    </tr>\n    <tr>\n      <th>Other / Non-Disclosed</th>\n      <td>15</td>\n      <td>1.91</td>\n    </tr>\n  </tbody>\n</table>\n</div>",
      "text/plain": "                       Total Count  Percentage of Players\nFemale                         113                  14.06\nMale                           652                  84.03\nOther / Non-Disclosed           15                   1.91"
     },
     "execution_count": 323,
     "metadata": {},
     "output_type": "execute_result"
    }
   ],
   "source": [
    "total_gender = pd.DataFrame({'Total Count': {'Female':female_count,'Male':male_count,\n",
    "                            'Other / Non-Disclosed':other_count},'Percentage of Players':{'Male':male_pct,'Female':female_pct,'Other / Non-Disclosed':other_pct}})\n",
    "total_gender\n"
   ]
  },
  {
   "cell_type": "code",
   "execution_count": 324,
   "metadata": {},
   "outputs": [],
   "source": [
    "#Create gender dataframe\n",
    "\n",
    "#gender_sum = pd.DataFrame({'Total Count':total_gender,'Percentage of Players':pct_gender})\n",
    "#gender_sum"
   ]
  },
  {
   "cell_type": "markdown",
   "metadata": {},
   "source": [
    "\n",
    "## Purchasing Analysis (Gender)"
   ]
  },
  {
   "cell_type": "markdown",
   "metadata": {},
   "source": [
    "* Run basic calculations to obtain purchase count, avg. purchase price, avg. purchase total per person etc. by gender\n",
    "\n",
    "\n",
    "\n",
    "\n",
    "* Create a summary data frame to hold the results\n",
    "\n",
    "\n",
    "* Optional: give the displayed data cleaner formatting\n",
    "\n",
    "\n",
    "* Display the summary data frame"
   ]
  },
  {
   "cell_type": "code",
   "execution_count": 325,
   "metadata": {},
   "outputs": [],
   "source": [
    "#total purchase count on gender\n",
    "male_count = male['Gender'].count()\n",
    "female_count = female['Gender'].count()\n",
    "other_count = other['Gender'].count()\n"
   ]
  },
  {
   "cell_type": "code",
   "execution_count": 326,
   "metadata": {},
   "outputs": [],
   "source": [
    "#total purchase value\n",
    "male_total = male['Price'].sum()\n",
    "female_total = female['Price'].sum()\n",
    "other_total = other['Price'].sum()\n"
   ]
  },
  {
   "cell_type": "code",
   "execution_count": 327,
   "metadata": {},
   "outputs": [],
   "source": [
    "#average purchase price\n",
    "male_avg = round((male_total/male_count),2)\n",
    "female_avg = round((female_total/female_count),2)\n",
    "other_avg = round((other_total/other_count),2)\n"
   ]
  },
  {
   "cell_type": "code",
   "execution_count": 328,
   "metadata": {},
   "outputs": [],
   "source": [
    "#gender per person\n",
    "male_per = round((male_total/male_uni),2)\n",
    "female_per = round((female_total/female_uni),2)\n",
    "other_per = round((other_total/other_uni),2)\n",
    "\n",
    "#gender per person dataframe\n",
    "gender_per_person = pd.DataFrame({'Avg Total Purchase per Person':{'Male':male_per,'Female':female_per,'Other / Non-Disclosed':other_per}})"
   ]
  },
  {
   "cell_type": "code",
   "execution_count": 329,
   "metadata": {},
   "outputs": [
    {
     "data": {
      "text/html": "<div>\n<style scoped>\n    .dataframe tbody tr th:only-of-type {\n        vertical-align: middle;\n    }\n\n    .dataframe tbody tr th {\n        vertical-align: top;\n    }\n\n    .dataframe thead th {\n        text-align: right;\n    }\n</style>\n<table border=\"1\" class=\"dataframe\">\n  <thead>\n    <tr style=\"text-align: right;\">\n      <th></th>\n      <th>Purchase Count</th>\n      <th>Total Purchase Value</th>\n      <th>Average Purchase Price</th>\n      <th>Avg Total Purchase per Person</th>\n    </tr>\n    <tr>\n      <th>Gender</th>\n      <th></th>\n      <th></th>\n      <th></th>\n      <th></th>\n    </tr>\n  </thead>\n  <tbody>\n    <tr>\n      <th>Female</th>\n      <td>113</td>\n      <td>361.94</td>\n      <td>3.20</td>\n      <td>4.47</td>\n    </tr>\n    <tr>\n      <th>Male</th>\n      <td>652</td>\n      <td>1967.64</td>\n      <td>3.02</td>\n      <td>4.07</td>\n    </tr>\n    <tr>\n      <th>Other / Non-Disclosed</th>\n      <td>15</td>\n      <td>50.19</td>\n      <td>3.35</td>\n      <td>4.56</td>\n    </tr>\n  </tbody>\n</table>\n</div>",
      "text/plain": "                       Purchase Count  Total Purchase Value  \\\nGender                                                        \nFemale                            113                361.94   \nMale                              652               1967.64   \nOther / Non-Disclosed              15                 50.19   \n\n                       Average Purchase Price  Avg Total Purchase per Person  \nGender                                                                        \nFemale                                   3.20                           4.47  \nMale                                     3.02                           4.07  \nOther / Non-Disclosed                    3.35                           4.56  "
     },
     "execution_count": 329,
     "metadata": {},
     "output_type": "execute_result"
    }
   ],
   "source": [
    "gender_purchase_summary = pd.DataFrame({'Purchase Count':{'Male':male_count,'Female':female_count,'Other / Non-Disclosed':other_count},\n",
    "                            'Total Purchase Value':{'Male':male_total,'Female':female_total,'Other / Non-Disclosed':other_total},\n",
    "                            'Average Purchase Price':{'Male':male_avg,'Female':female_avg,'Other / Non-Disclosed':other_avg},\n",
    "                            'Avg Total Purchase per Person':{'Male':male_per,'Female':female_per,'Other / Non-Disclosed':other_per}})\n",
    "\n",
    "\n",
    "gender_purchase_summary.index.name = 'Gender'\n",
    "gender_purchase_summary"
   ]
  },
  {
   "cell_type": "markdown",
   "metadata": {},
   "source": [
    "'SN']].unique()\n",
    "## Age Demographics"
   ]
  },
  {
   "cell_type": "markdown",
   "metadata": {},
   "source": [
    "* Establish bins for ages\n",
    "\n",
    "\n",
    "* Categorize the existing players using the age bins. Hint: use pd.cut()\n",
    "\n",
    "\n",
    "* Calculate the numbers and percentages by age group\n",
    "\n",
    "\n",
    "* Create a summary data frame to hold the results\n",
    "\n",
    "\n",
    "* Optional: round the percentage column to two decimal points\n",
    "\n",
    "\n",
    "* Display Age Demographics Table\n"
   ]
  },
  {
   "cell_type": "code",
   "execution_count": 330,
   "metadata": {},
   "outputs": [
    {
     "data": {
      "text/html": "<div>\n<style scoped>\n    .dataframe tbody tr th:only-of-type {\n        vertical-align: middle;\n    }\n\n    .dataframe tbody tr th {\n        vertical-align: top;\n    }\n\n    .dataframe thead th {\n        text-align: right;\n    }\n</style>\n<table border=\"1\" class=\"dataframe\">\n  <thead>\n    <tr style=\"text-align: right;\">\n      <th></th>\n      <th>Purchase ID</th>\n      <th>Age</th>\n      <th>Item ID</th>\n      <th>Price</th>\n    </tr>\n  </thead>\n  <tbody>\n    <tr>\n      <th>count</th>\n      <td>780.000000</td>\n      <td>780.000000</td>\n      <td>780.000000</td>\n      <td>780.000000</td>\n    </tr>\n    <tr>\n      <th>mean</th>\n      <td>389.500000</td>\n      <td>22.714103</td>\n      <td>92.114103</td>\n      <td>3.050987</td>\n    </tr>\n    <tr>\n      <th>std</th>\n      <td>225.310896</td>\n      <td>6.659444</td>\n      <td>52.775943</td>\n      <td>1.169549</td>\n    </tr>\n    <tr>\n      <th>min</th>\n      <td>0.000000</td>\n      <td>7.000000</td>\n      <td>0.000000</td>\n      <td>1.000000</td>\n    </tr>\n    <tr>\n      <th>25%</th>\n      <td>194.750000</td>\n      <td>20.000000</td>\n      <td>48.000000</td>\n      <td>1.980000</td>\n    </tr>\n    <tr>\n      <th>50%</th>\n      <td>389.500000</td>\n      <td>22.000000</td>\n      <td>93.000000</td>\n      <td>3.150000</td>\n    </tr>\n    <tr>\n      <th>75%</th>\n      <td>584.250000</td>\n      <td>25.000000</td>\n      <td>139.000000</td>\n      <td>4.080000</td>\n    </tr>\n    <tr>\n      <th>max</th>\n      <td>779.000000</td>\n      <td>45.000000</td>\n      <td>183.000000</td>\n      <td>4.990000</td>\n    </tr>\n  </tbody>\n</table>\n</div>",
      "text/plain": "       Purchase ID         Age     Item ID       Price\ncount   780.000000  780.000000  780.000000  780.000000\nmean    389.500000   22.714103   92.114103    3.050987\nstd     225.310896    6.659444   52.775943    1.169549\nmin       0.000000    7.000000    0.000000    1.000000\n25%     194.750000   20.000000   48.000000    1.980000\n50%     389.500000   22.000000   93.000000    3.150000\n75%     584.250000   25.000000  139.000000    4.080000\nmax     779.000000   45.000000  183.000000    4.990000"
     },
     "execution_count": 330,
     "metadata": {},
     "output_type": "execute_result"
    }
   ],
   "source": [
    "purchase_data.describe()"
   ]
  },
  {
   "cell_type": "code",
   "execution_count": 331,
   "metadata": {},
   "outputs": [],
   "source": [
    "#create bin\n",
    "age_bin = [0,9,14,19,24,29,34,39,40]\n",
    "age_labels = ['<10','10-14','15-19','20-24','25-29','30-34','35-39','40+']"
   ]
  },
  {
   "cell_type": "code",
   "execution_count": 339,
   "metadata": {},
   "outputs": [
    {
     "name": "stderr",
     "output_type": "stream",
     "text": "//anaconda3/lib/python3.7/site-packages/ipykernel_launcher.py:1: SettingWithCopyWarning: \nA value is trying to be set on a copy of a slice from a DataFrame.\nTry using .loc[row_indexer,col_indexer] = value instead\n\nSee the caveats in the documentation: http://pandas.pydata.org/pandas-docs/stable/indexing.html#indexing-view-versus-copy\n  \"\"\"Entry point for launching an IPython kernel.\n"
    },
    {
     "data": {
      "text/html": "<div>\n<style scoped>\n    .dataframe tbody tr th:only-of-type {\n        vertical-align: middle;\n    }\n\n    .dataframe tbody tr th {\n        vertical-align: top;\n    }\n\n    .dataframe thead th {\n        text-align: right;\n    }\n</style>\n<table border=\"1\" class=\"dataframe\">\n  <thead>\n    <tr style=\"text-align: right;\">\n      <th></th>\n      <th>Purchase ID</th>\n      <th>SN</th>\n      <th>Age</th>\n      <th>Gender</th>\n      <th>Item ID</th>\n      <th>Item Name</th>\n      <th>Price</th>\n      <th>Age Bin</th>\n    </tr>\n  </thead>\n  <tbody>\n    <tr>\n      <th>0</th>\n      <td>0</td>\n      <td>Lisim78</td>\n      <td>20</td>\n      <td>Male</td>\n      <td>108</td>\n      <td>Extraction, Quickblade Of Trembling Hands</td>\n      <td>3.53</td>\n      <td>20-24</td>\n    </tr>\n    <tr>\n      <th>1</th>\n      <td>1</td>\n      <td>Lisovynya38</td>\n      <td>40</td>\n      <td>Male</td>\n      <td>143</td>\n      <td>Frenzied Scimitar</td>\n      <td>1.56</td>\n      <td>40+</td>\n    </tr>\n    <tr>\n      <th>2</th>\n      <td>2</td>\n      <td>Ithergue48</td>\n      <td>24</td>\n      <td>Male</td>\n      <td>92</td>\n      <td>Final Critic</td>\n      <td>4.88</td>\n      <td>20-24</td>\n    </tr>\n    <tr>\n      <th>3</th>\n      <td>3</td>\n      <td>Chamassasya86</td>\n      <td>24</td>\n      <td>Male</td>\n      <td>100</td>\n      <td>Blindscythe</td>\n      <td>3.27</td>\n      <td>20-24</td>\n    </tr>\n    <tr>\n      <th>4</th>\n      <td>4</td>\n      <td>Iskosia90</td>\n      <td>23</td>\n      <td>Male</td>\n      <td>131</td>\n      <td>Fury</td>\n      <td>1.44</td>\n      <td>20-24</td>\n    </tr>\n    <tr>\n      <th>5</th>\n      <td>5</td>\n      <td>Yalae81</td>\n      <td>22</td>\n      <td>Male</td>\n      <td>81</td>\n      <td>Dreamkiss</td>\n      <td>3.61</td>\n      <td>20-24</td>\n    </tr>\n    <tr>\n      <th>6</th>\n      <td>6</td>\n      <td>Itheria73</td>\n      <td>36</td>\n      <td>Male</td>\n      <td>169</td>\n      <td>Interrogator, Blood Blade of the Queen</td>\n      <td>2.18</td>\n      <td>35-39</td>\n    </tr>\n    <tr>\n      <th>7</th>\n      <td>7</td>\n      <td>Iskjaskst81</td>\n      <td>20</td>\n      <td>Male</td>\n      <td>162</td>\n      <td>Abyssal Shard</td>\n      <td>2.67</td>\n      <td>20-24</td>\n    </tr>\n    <tr>\n      <th>8</th>\n      <td>8</td>\n      <td>Undjask33</td>\n      <td>22</td>\n      <td>Male</td>\n      <td>21</td>\n      <td>Souleater</td>\n      <td>1.10</td>\n      <td>20-24</td>\n    </tr>\n    <tr>\n      <th>10</th>\n      <td>10</td>\n      <td>Inguron55</td>\n      <td>23</td>\n      <td>Male</td>\n      <td>95</td>\n      <td>Singed Onyx Warscythe</td>\n      <td>4.74</td>\n      <td>20-24</td>\n    </tr>\n    <tr>\n      <th>11</th>\n      <td>11</td>\n      <td>Haisrisuir60</td>\n      <td>23</td>\n      <td>Male</td>\n      <td>162</td>\n      <td>Abyssal Shard</td>\n      <td>2.67</td>\n      <td>20-24</td>\n    </tr>\n    <tr>\n      <th>12</th>\n      <td>12</td>\n      <td>Saelaephos52</td>\n      <td>21</td>\n      <td>Male</td>\n      <td>116</td>\n      <td>Renewed Skeletal Katana</td>\n      <td>4.18</td>\n      <td>20-24</td>\n    </tr>\n    <tr>\n      <th>13</th>\n      <td>13</td>\n      <td>Assjaskan73</td>\n      <td>22</td>\n      <td>Male</td>\n      <td>4</td>\n      <td>Bloodlord's Fetish</td>\n      <td>1.70</td>\n      <td>20-24</td>\n    </tr>\n    <tr>\n      <th>14</th>\n      <td>14</td>\n      <td>Saesrideu94</td>\n      <td>35</td>\n      <td>Male</td>\n      <td>165</td>\n      <td>Bone Crushing Silver Skewer</td>\n      <td>4.86</td>\n      <td>35-39</td>\n    </tr>\n    <tr>\n      <th>16</th>\n      <td>16</td>\n      <td>Lisirra25</td>\n      <td>20</td>\n      <td>Male</td>\n      <td>40</td>\n      <td>Second Chance</td>\n      <td>2.52</td>\n      <td>20-24</td>\n    </tr>\n    <tr>\n      <th>17</th>\n      <td>17</td>\n      <td>Zontibe81</td>\n      <td>21</td>\n      <td>Male</td>\n      <td>161</td>\n      <td>Devine</td>\n      <td>1.76</td>\n      <td>20-24</td>\n    </tr>\n    <tr>\n      <th>19</th>\n      <td>19</td>\n      <td>Chamalo71</td>\n      <td>30</td>\n      <td>Male</td>\n      <td>89</td>\n      <td>Blazefury, Protector of Delusions</td>\n      <td>4.64</td>\n      <td>30-34</td>\n    </tr>\n    <tr>\n      <th>20</th>\n      <td>20</td>\n      <td>Iathenudil29</td>\n      <td>20</td>\n      <td>Male</td>\n      <td>57</td>\n      <td>Despair, Favor of Due Diligence</td>\n      <td>4.60</td>\n      <td>20-24</td>\n    </tr>\n    <tr>\n      <th>21</th>\n      <td>21</td>\n      <td>Phiarithdeu40</td>\n      <td>20</td>\n      <td>Male</td>\n      <td>168</td>\n      <td>Sun Strike, Jaws of Twisted Visions</td>\n      <td>1.48</td>\n      <td>20-24</td>\n    </tr>\n    <tr>\n      <th>23</th>\n      <td>23</td>\n      <td>Eyrian71</td>\n      <td>40</td>\n      <td>Male</td>\n      <td>151</td>\n      <td>Severance</td>\n      <td>3.40</td>\n      <td>40+</td>\n    </tr>\n    <tr>\n      <th>24</th>\n      <td>24</td>\n      <td>Siala43</td>\n      <td>30</td>\n      <td>Male</td>\n      <td>141</td>\n      <td>Persuasion</td>\n      <td>3.19</td>\n      <td>30-34</td>\n    </tr>\n    <tr>\n      <th>25</th>\n      <td>25</td>\n      <td>Lisirra87</td>\n      <td>29</td>\n      <td>Male</td>\n      <td>178</td>\n      <td>Oathbreaker, Last Hope of the Breaking Storm</td>\n      <td>4.23</td>\n      <td>25-29</td>\n    </tr>\n    <tr>\n      <th>26</th>\n      <td>26</td>\n      <td>Lirtossa84</td>\n      <td>11</td>\n      <td>Male</td>\n      <td>71</td>\n      <td>Demise</td>\n      <td>1.61</td>\n      <td>10-14</td>\n    </tr>\n    <tr>\n      <th>27</th>\n      <td>27</td>\n      <td>Eusri44</td>\n      <td>7</td>\n      <td>Male</td>\n      <td>96</td>\n      <td>Blood-Forged Skeletal Spine</td>\n      <td>3.09</td>\n      <td>&lt;10</td>\n    </tr>\n    <tr>\n      <th>28</th>\n      <td>28</td>\n      <td>Aela59</td>\n      <td>21</td>\n      <td>Male</td>\n      <td>119</td>\n      <td>Stormbringer, Dark Blade of Ending Misery</td>\n      <td>4.32</td>\n      <td>20-24</td>\n    </tr>\n    <tr>\n      <th>29</th>\n      <td>29</td>\n      <td>Tyida79</td>\n      <td>24</td>\n      <td>Male</td>\n      <td>37</td>\n      <td>Shadow Strike, Glory of Ending Hope</td>\n      <td>3.16</td>\n      <td>20-24</td>\n    </tr>\n    <tr>\n      <th>30</th>\n      <td>30</td>\n      <td>Idai61</td>\n      <td>19</td>\n      <td>Male</td>\n      <td>140</td>\n      <td>Striker</td>\n      <td>2.94</td>\n      <td>15-19</td>\n    </tr>\n    <tr>\n      <th>31</th>\n      <td>31</td>\n      <td>Farusrian86</td>\n      <td>37</td>\n      <td>Male</td>\n      <td>179</td>\n      <td>Wolf, Promise of the Moonwalker</td>\n      <td>4.48</td>\n      <td>35-39</td>\n    </tr>\n    <tr>\n      <th>32</th>\n      <td>32</td>\n      <td>Aeralria27</td>\n      <td>10</td>\n      <td>Male</td>\n      <td>133</td>\n      <td>Faith's Scimitar</td>\n      <td>4.09</td>\n      <td>10-14</td>\n    </tr>\n    <tr>\n      <th>33</th>\n      <td>33</td>\n      <td>Haillyrgue51</td>\n      <td>7</td>\n      <td>Male</td>\n      <td>44</td>\n      <td>Bonecarvin Battle Axe</td>\n      <td>2.38</td>\n      <td>&lt;10</td>\n    </tr>\n    <tr>\n      <th>...</th>\n      <td>...</td>\n      <td>...</td>\n      <td>...</td>\n      <td>...</td>\n      <td>...</td>\n      <td>...</td>\n      <td>...</td>\n      <td>...</td>\n    </tr>\n    <tr>\n      <th>746</th>\n      <td>746</td>\n      <td>Aellyria80</td>\n      <td>23</td>\n      <td>Male</td>\n      <td>159</td>\n      <td>Oathbreaker, Spellblade of Trials</td>\n      <td>3.08</td>\n      <td>20-24</td>\n    </tr>\n    <tr>\n      <th>748</th>\n      <td>748</td>\n      <td>Rastynusuir31</td>\n      <td>20</td>\n      <td>Male</td>\n      <td>55</td>\n      <td>Vindictive Glass Edge</td>\n      <td>2.27</td>\n      <td>20-24</td>\n    </tr>\n    <tr>\n      <th>749</th>\n      <td>749</td>\n      <td>Chanossanya44</td>\n      <td>20</td>\n      <td>Male</td>\n      <td>53</td>\n      <td>Vengeance Cleaver</td>\n      <td>2.05</td>\n      <td>20-24</td>\n    </tr>\n    <tr>\n      <th>750</th>\n      <td>750</td>\n      <td>Iljask75</td>\n      <td>22</td>\n      <td>Male</td>\n      <td>167</td>\n      <td>Malice, Legacy of the Queen</td>\n      <td>3.61</td>\n      <td>20-24</td>\n    </tr>\n    <tr>\n      <th>751</th>\n      <td>751</td>\n      <td>Lisjaskan36</td>\n      <td>11</td>\n      <td>Male</td>\n      <td>180</td>\n      <td>Stormcaller</td>\n      <td>3.36</td>\n      <td>10-14</td>\n    </tr>\n    <tr>\n      <th>752</th>\n      <td>752</td>\n      <td>Mindjasksya61</td>\n      <td>17</td>\n      <td>Male</td>\n      <td>112</td>\n      <td>Worldbreaker</td>\n      <td>2.60</td>\n      <td>15-19</td>\n    </tr>\n    <tr>\n      <th>753</th>\n      <td>753</td>\n      <td>Frichirranya75</td>\n      <td>36</td>\n      <td>Male</td>\n      <td>178</td>\n      <td>Oathbreaker, Last Hope of the Breaking Storm</td>\n      <td>4.23</td>\n      <td>35-39</td>\n    </tr>\n    <tr>\n      <th>755</th>\n      <td>755</td>\n      <td>Raesty92</td>\n      <td>12</td>\n      <td>Male</td>\n      <td>76</td>\n      <td>Haunted Bronzed Bludgeon</td>\n      <td>3.15</td>\n      <td>10-14</td>\n    </tr>\n    <tr>\n      <th>756</th>\n      <td>756</td>\n      <td>Ilast79</td>\n      <td>20</td>\n      <td>Male</td>\n      <td>73</td>\n      <td>Ritual Mace</td>\n      <td>2.05</td>\n      <td>20-24</td>\n    </tr>\n    <tr>\n      <th>757</th>\n      <td>757</td>\n      <td>Eratiel90</td>\n      <td>18</td>\n      <td>Male</td>\n      <td>57</td>\n      <td>Despair, Favor of Due Diligence</td>\n      <td>4.60</td>\n      <td>15-19</td>\n    </tr>\n    <tr>\n      <th>758</th>\n      <td>758</td>\n      <td>Iral74</td>\n      <td>21</td>\n      <td>Male</td>\n      <td>182</td>\n      <td>Toothpick</td>\n      <td>4.03</td>\n      <td>20-24</td>\n    </tr>\n    <tr>\n      <th>759</th>\n      <td>759</td>\n      <td>Tyaelorap29</td>\n      <td>25</td>\n      <td>Male</td>\n      <td>72</td>\n      <td>Winter's Bite</td>\n      <td>3.77</td>\n      <td>25-29</td>\n    </tr>\n    <tr>\n      <th>760</th>\n      <td>760</td>\n      <td>Aithelis62</td>\n      <td>21</td>\n      <td>Male</td>\n      <td>44</td>\n      <td>Bonecarvin Battle Axe</td>\n      <td>2.38</td>\n      <td>20-24</td>\n    </tr>\n    <tr>\n      <th>761</th>\n      <td>761</td>\n      <td>Assim27</td>\n      <td>45</td>\n      <td>Male</td>\n      <td>17</td>\n      <td>Lazarus, Terror of the Earth</td>\n      <td>1.70</td>\n      <td>NaN</td>\n    </tr>\n    <tr>\n      <th>762</th>\n      <td>762</td>\n      <td>Asur53</td>\n      <td>26</td>\n      <td>Male</td>\n      <td>110</td>\n      <td>Suspension</td>\n      <td>1.44</td>\n      <td>25-29</td>\n    </tr>\n    <tr>\n      <th>763</th>\n      <td>763</td>\n      <td>Lassilsala30</td>\n      <td>21</td>\n      <td>Male</td>\n      <td>85</td>\n      <td>Malificent Bag</td>\n      <td>1.75</td>\n      <td>20-24</td>\n    </tr>\n    <tr>\n      <th>764</th>\n      <td>764</td>\n      <td>Saedaiphos46</td>\n      <td>18</td>\n      <td>Male</td>\n      <td>113</td>\n      <td>Solitude's Reaver</td>\n      <td>4.07</td>\n      <td>15-19</td>\n    </tr>\n    <tr>\n      <th>765</th>\n      <td>765</td>\n      <td>Irith83</td>\n      <td>18</td>\n      <td>Male</td>\n      <td>130</td>\n      <td>Alpha</td>\n      <td>2.07</td>\n      <td>15-19</td>\n    </tr>\n    <tr>\n      <th>766</th>\n      <td>766</td>\n      <td>Aelastirin39</td>\n      <td>23</td>\n      <td>Male</td>\n      <td>58</td>\n      <td>Freak's Bite, Favor of Holy Might</td>\n      <td>4.14</td>\n      <td>20-24</td>\n    </tr>\n    <tr>\n      <th>768</th>\n      <td>768</td>\n      <td>Assassasta79</td>\n      <td>38</td>\n      <td>Male</td>\n      <td>92</td>\n      <td>Final Critic</td>\n      <td>4.88</td>\n      <td>35-39</td>\n    </tr>\n    <tr>\n      <th>769</th>\n      <td>769</td>\n      <td>Ilosian36</td>\n      <td>15</td>\n      <td>Male</td>\n      <td>145</td>\n      <td>Fiery Glass Crusader</td>\n      <td>4.58</td>\n      <td>15-19</td>\n    </tr>\n    <tr>\n      <th>770</th>\n      <td>770</td>\n      <td>Lirtosia63</td>\n      <td>34</td>\n      <td>Male</td>\n      <td>12</td>\n      <td>Dawne</td>\n      <td>1.02</td>\n      <td>30-34</td>\n    </tr>\n    <tr>\n      <th>771</th>\n      <td>771</td>\n      <td>Iskossasda43</td>\n      <td>16</td>\n      <td>Male</td>\n      <td>25</td>\n      <td>Hero Cane</td>\n      <td>4.35</td>\n      <td>15-19</td>\n    </tr>\n    <tr>\n      <th>772</th>\n      <td>772</td>\n      <td>Asur53</td>\n      <td>26</td>\n      <td>Male</td>\n      <td>136</td>\n      <td>Ghastly Adamantite Protector</td>\n      <td>3.58</td>\n      <td>25-29</td>\n    </tr>\n    <tr>\n      <th>773</th>\n      <td>773</td>\n      <td>Hala31</td>\n      <td>21</td>\n      <td>Male</td>\n      <td>19</td>\n      <td>Pursuit, Cudgel of Necromancy</td>\n      <td>1.02</td>\n      <td>20-24</td>\n    </tr>\n    <tr>\n      <th>774</th>\n      <td>774</td>\n      <td>Jiskjask80</td>\n      <td>11</td>\n      <td>Male</td>\n      <td>101</td>\n      <td>Final Critic</td>\n      <td>4.19</td>\n      <td>10-14</td>\n    </tr>\n    <tr>\n      <th>776</th>\n      <td>776</td>\n      <td>Iral74</td>\n      <td>21</td>\n      <td>Male</td>\n      <td>164</td>\n      <td>Exiled Doomblade</td>\n      <td>1.63</td>\n      <td>20-24</td>\n    </tr>\n    <tr>\n      <th>777</th>\n      <td>777</td>\n      <td>Yathecal72</td>\n      <td>20</td>\n      <td>Male</td>\n      <td>67</td>\n      <td>Celeste, Incarnation of the Corrupted</td>\n      <td>3.46</td>\n      <td>20-24</td>\n    </tr>\n    <tr>\n      <th>778</th>\n      <td>778</td>\n      <td>Sisur91</td>\n      <td>7</td>\n      <td>Male</td>\n      <td>101</td>\n      <td>Final Critic</td>\n      <td>4.19</td>\n      <td>&lt;10</td>\n    </tr>\n    <tr>\n      <th>779</th>\n      <td>779</td>\n      <td>Ennrian78</td>\n      <td>24</td>\n      <td>Male</td>\n      <td>50</td>\n      <td>Dawn</td>\n      <td>4.60</td>\n      <td>20-24</td>\n    </tr>\n  </tbody>\n</table>\n<p>652 rows × 8 columns</p>\n</div>",
      "text/plain": "     Purchase ID              SN  Age Gender  Item ID  \\\n0              0         Lisim78   20   Male      108   \n1              1     Lisovynya38   40   Male      143   \n2              2      Ithergue48   24   Male       92   \n3              3   Chamassasya86   24   Male      100   \n4              4       Iskosia90   23   Male      131   \n5              5         Yalae81   22   Male       81   \n6              6       Itheria73   36   Male      169   \n7              7     Iskjaskst81   20   Male      162   \n8              8       Undjask33   22   Male       21   \n10            10       Inguron55   23   Male       95   \n11            11    Haisrisuir60   23   Male      162   \n12            12    Saelaephos52   21   Male      116   \n13            13     Assjaskan73   22   Male        4   \n14            14     Saesrideu94   35   Male      165   \n16            16       Lisirra25   20   Male       40   \n17            17       Zontibe81   21   Male      161   \n19            19       Chamalo71   30   Male       89   \n20            20    Iathenudil29   20   Male       57   \n21            21   Phiarithdeu40   20   Male      168   \n23            23        Eyrian71   40   Male      151   \n24            24         Siala43   30   Male      141   \n25            25       Lisirra87   29   Male      178   \n26            26      Lirtossa84   11   Male       71   \n27            27         Eusri44    7   Male       96   \n28            28          Aela59   21   Male      119   \n29            29         Tyida79   24   Male       37   \n30            30          Idai61   19   Male      140   \n31            31     Farusrian86   37   Male      179   \n32            32      Aeralria27   10   Male      133   \n33            33    Haillyrgue51    7   Male       44   \n..           ...             ...  ...    ...      ...   \n746          746      Aellyria80   23   Male      159   \n748          748   Rastynusuir31   20   Male       55   \n749          749   Chanossanya44   20   Male       53   \n750          750        Iljask75   22   Male      167   \n751          751     Lisjaskan36   11   Male      180   \n752          752   Mindjasksya61   17   Male      112   \n753          753  Frichirranya75   36   Male      178   \n755          755        Raesty92   12   Male       76   \n756          756         Ilast79   20   Male       73   \n757          757       Eratiel90   18   Male       57   \n758          758          Iral74   21   Male      182   \n759          759     Tyaelorap29   25   Male       72   \n760          760      Aithelis62   21   Male       44   \n761          761         Assim27   45   Male       17   \n762          762          Asur53   26   Male      110   \n763          763    Lassilsala30   21   Male       85   \n764          764    Saedaiphos46   18   Male      113   \n765          765         Irith83   18   Male      130   \n766          766    Aelastirin39   23   Male       58   \n768          768    Assassasta79   38   Male       92   \n769          769       Ilosian36   15   Male      145   \n770          770      Lirtosia63   34   Male       12   \n771          771    Iskossasda43   16   Male       25   \n772          772          Asur53   26   Male      136   \n773          773          Hala31   21   Male       19   \n774          774      Jiskjask80   11   Male      101   \n776          776          Iral74   21   Male      164   \n777          777      Yathecal72   20   Male       67   \n778          778         Sisur91    7   Male      101   \n779          779       Ennrian78   24   Male       50   \n\n                                        Item Name  Price Age Bin  \n0       Extraction, Quickblade Of Trembling Hands   3.53   20-24  \n1                               Frenzied Scimitar   1.56     40+  \n2                                    Final Critic   4.88   20-24  \n3                                     Blindscythe   3.27   20-24  \n4                                            Fury   1.44   20-24  \n5                                       Dreamkiss   3.61   20-24  \n6          Interrogator, Blood Blade of the Queen   2.18   35-39  \n7                                   Abyssal Shard   2.67   20-24  \n8                                       Souleater   1.10   20-24  \n10                          Singed Onyx Warscythe   4.74   20-24  \n11                                  Abyssal Shard   2.67   20-24  \n12                        Renewed Skeletal Katana   4.18   20-24  \n13                             Bloodlord's Fetish   1.70   20-24  \n14                    Bone Crushing Silver Skewer   4.86   35-39  \n16                                  Second Chance   2.52   20-24  \n17                                         Devine   1.76   20-24  \n19              Blazefury, Protector of Delusions   4.64   30-34  \n20                Despair, Favor of Due Diligence   4.60   20-24  \n21            Sun Strike, Jaws of Twisted Visions   1.48   20-24  \n23                                      Severance   3.40     40+  \n24                                     Persuasion   3.19   30-34  \n25   Oathbreaker, Last Hope of the Breaking Storm   4.23   25-29  \n26                                         Demise   1.61   10-14  \n27                    Blood-Forged Skeletal Spine   3.09     <10  \n28      Stormbringer, Dark Blade of Ending Misery   4.32   20-24  \n29            Shadow Strike, Glory of Ending Hope   3.16   20-24  \n30                                        Striker   2.94   15-19  \n31                Wolf, Promise of the Moonwalker   4.48   35-39  \n32                               Faith's Scimitar   4.09   10-14  \n33                          Bonecarvin Battle Axe   2.38     <10  \n..                                            ...    ...     ...  \n746             Oathbreaker, Spellblade of Trials   3.08   20-24  \n748                         Vindictive Glass Edge   2.27   20-24  \n749                             Vengeance Cleaver   2.05   20-24  \n750                   Malice, Legacy of the Queen   3.61   20-24  \n751                                   Stormcaller   3.36   10-14  \n752                                  Worldbreaker   2.60   15-19  \n753  Oathbreaker, Last Hope of the Breaking Storm   4.23   35-39  \n755                      Haunted Bronzed Bludgeon   3.15   10-14  \n756                                   Ritual Mace   2.05   20-24  \n757               Despair, Favor of Due Diligence   4.60   15-19  \n758                                     Toothpick   4.03   20-24  \n759                                 Winter's Bite   3.77   25-29  \n760                         Bonecarvin Battle Axe   2.38   20-24  \n761                  Lazarus, Terror of the Earth   1.70     NaN  \n762                                    Suspension   1.44   25-29  \n763                                Malificent Bag   1.75   20-24  \n764                             Solitude's Reaver   4.07   15-19  \n765                                         Alpha   2.07   15-19  \n766             Freak's Bite, Favor of Holy Might   4.14   20-24  \n768                                  Final Critic   4.88   35-39  \n769                          Fiery Glass Crusader   4.58   15-19  \n770                                         Dawne   1.02   30-34  \n771                                     Hero Cane   4.35   15-19  \n772                  Ghastly Adamantite Protector   3.58   25-29  \n773                 Pursuit, Cudgel of Necromancy   1.02   20-24  \n774                                  Final Critic   4.19   10-14  \n776                              Exiled Doomblade   1.63   20-24  \n777         Celeste, Incarnation of the Corrupted   3.46   20-24  \n778                                  Final Critic   4.19     <10  \n779                                          Dawn   4.60   20-24  \n\n[652 rows x 8 columns]"
     },
     "execution_count": 339,
     "metadata": {},
     "output_type": "execute_result"
    }
   ],
   "source": [
    "male['Age Bin'] = pd.cut(male['Age'], age_bin, labels=age_labels)\n",
    "male"
   ]
  },
  {
   "cell_type": "markdown",
   "metadata": {},
   "source": [
    "## Purchasing Analysis (Age)"
   ]
  },
  {
   "cell_type": "markdown",
   "metadata": {},
   "source": [
    "* Bin the purchase_data data frame by age\n",
    "\n",
    "\n",
    "* Run basic calculations to obtain purchase count, avg. purchase price, avg. purchase total per person etc. in the table below\n",
    "\n",
    "\n",
    "* Create a summary data frame to hold the results\n",
    "\n",
    "\n",
    "* Optional: give the displayed data cleaner formatting\n",
    "\n",
    "\n",
    "* Display the summary data frame"
   ]
  },
  {
   "cell_type": "code",
   "execution_count": 7,
   "metadata": {},
   "outputs": [
    {
     "data": {
      "text/html": [
       "<div>\n",
       "<style scoped>\n",
       "    .dataframe tbody tr th:only-of-type {\n",
       "        vertical-align: middle;\n",
       "    }\n",
       "\n",
       "    .dataframe tbody tr th {\n",
       "        vertical-align: top;\n",
       "    }\n",
       "\n",
       "    .dataframe thead th {\n",
       "        text-align: right;\n",
       "    }\n",
       "</style>\n",
       "<table border=\"1\" class=\"dataframe\">\n",
       "  <thead>\n",
       "    <tr style=\"text-align: right;\">\n",
       "      <th></th>\n",
       "      <th>Purchase Count</th>\n",
       "      <th>Average Purchase Price</th>\n",
       "      <th>Total Purchase Value</th>\n",
       "      <th>Avg Total Purchase per Person</th>\n",
       "    </tr>\n",
       "    <tr>\n",
       "      <th>Age Ranges</th>\n",
       "      <th></th>\n",
       "      <th></th>\n",
       "      <th></th>\n",
       "      <th></th>\n",
       "    </tr>\n",
       "  </thead>\n",
       "  <tbody>\n",
       "    <tr>\n",
       "      <th>&lt;10</th>\n",
       "      <td>23</td>\n",
       "      <td>$3.35</td>\n",
       "      <td>$77.13</td>\n",
       "      <td>$4.54</td>\n",
       "    </tr>\n",
       "    <tr>\n",
       "      <th>10-14</th>\n",
       "      <td>28</td>\n",
       "      <td>$2.96</td>\n",
       "      <td>$82.78</td>\n",
       "      <td>$3.76</td>\n",
       "    </tr>\n",
       "    <tr>\n",
       "      <th>15-19</th>\n",
       "      <td>136</td>\n",
       "      <td>$3.04</td>\n",
       "      <td>$412.89</td>\n",
       "      <td>$3.86</td>\n",
       "    </tr>\n",
       "    <tr>\n",
       "      <th>20-24</th>\n",
       "      <td>365</td>\n",
       "      <td>$3.05</td>\n",
       "      <td>$1,114.06</td>\n",
       "      <td>$4.32</td>\n",
       "    </tr>\n",
       "    <tr>\n",
       "      <th>25-29</th>\n",
       "      <td>101</td>\n",
       "      <td>$2.90</td>\n",
       "      <td>$293.00</td>\n",
       "      <td>$3.81</td>\n",
       "    </tr>\n",
       "    <tr>\n",
       "      <th>30-34</th>\n",
       "      <td>73</td>\n",
       "      <td>$2.93</td>\n",
       "      <td>$214.00</td>\n",
       "      <td>$4.12</td>\n",
       "    </tr>\n",
       "    <tr>\n",
       "      <th>35-39</th>\n",
       "      <td>41</td>\n",
       "      <td>$3.60</td>\n",
       "      <td>$147.67</td>\n",
       "      <td>$4.76</td>\n",
       "    </tr>\n",
       "    <tr>\n",
       "      <th>40+</th>\n",
       "      <td>13</td>\n",
       "      <td>$2.94</td>\n",
       "      <td>$38.24</td>\n",
       "      <td>$3.19</td>\n",
       "    </tr>\n",
       "  </tbody>\n",
       "</table>\n",
       "</div>"
      ],
      "text/plain": [
       "           Purchase Count Average Purchase Price Total Purchase Value  \\\n",
       "Age Ranges                                                              \n",
       "<10                    23                  $3.35               $77.13   \n",
       "10-14                  28                  $2.96               $82.78   \n",
       "15-19                 136                  $3.04              $412.89   \n",
       "20-24                 365                  $3.05            $1,114.06   \n",
       "25-29                 101                  $2.90              $293.00   \n",
       "30-34                  73                  $2.93              $214.00   \n",
       "35-39                  41                  $3.60              $147.67   \n",
       "40+                    13                  $2.94               $38.24   \n",
       "\n",
       "           Avg Total Purchase per Person  \n",
       "Age Ranges                                \n",
       "<10                                $4.54  \n",
       "10-14                              $3.76  \n",
       "15-19                              $3.86  \n",
       "20-24                              $4.32  \n",
       "25-29                              $3.81  \n",
       "30-34                              $4.12  \n",
       "35-39                              $4.76  \n",
       "40+                                $3.19  "
      ]
     },
     "execution_count": 7,
     "metadata": {},
     "output_type": "execute_result"
    }
   ],
   "source": []
  },
  {
   "cell_type": "markdown",
   "metadata": {},
   "source": [
    "## Top Spenders"
   ]
  },
  {
   "cell_type": "markdown",
   "metadata": {},
   "source": [
    "* Run basic calculations to obtain the results in the table below\n",
    "\n",
    "\n",
    "* Create a summary data frame to hold the results\n",
    "\n",
    "\n",
    "* Sort the total purchase value column in descending order\n",
    "\n",
    "\n",
    "* Optional: give the displayed data cleaner formatting\n",
    "\n",
    "\n",
    "* Display a preview of the summary data frame\n",
    "\n"
   ]
  },
  {
   "cell_type": "code",
   "execution_count": 8,
   "metadata": {},
   "outputs": [
    {
     "data": {
      "text/html": [
       "<div>\n",
       "<style scoped>\n",
       "    .dataframe tbody tr th:only-of-type {\n",
       "        vertical-align: middle;\n",
       "    }\n",
       "\n",
       "    .dataframe tbody tr th {\n",
       "        vertical-align: top;\n",
       "    }\n",
       "\n",
       "    .dataframe thead th {\n",
       "        text-align: right;\n",
       "    }\n",
       "</style>\n",
       "<table border=\"1\" class=\"dataframe\">\n",
       "  <thead>\n",
       "    <tr style=\"text-align: right;\">\n",
       "      <th></th>\n",
       "      <th>Purchase Count</th>\n",
       "      <th>Average Purchase Price</th>\n",
       "      <th>Total Purchase Value</th>\n",
       "    </tr>\n",
       "    <tr>\n",
       "      <th>SN</th>\n",
       "      <th></th>\n",
       "      <th></th>\n",
       "      <th></th>\n",
       "    </tr>\n",
       "  </thead>\n",
       "  <tbody>\n",
       "    <tr>\n",
       "      <th>Lisosia93</th>\n",
       "      <td>5</td>\n",
       "      <td>$3.79</td>\n",
       "      <td>$18.96</td>\n",
       "    </tr>\n",
       "    <tr>\n",
       "      <th>Idastidru52</th>\n",
       "      <td>4</td>\n",
       "      <td>$3.86</td>\n",
       "      <td>$15.45</td>\n",
       "    </tr>\n",
       "    <tr>\n",
       "      <th>Chamjask73</th>\n",
       "      <td>3</td>\n",
       "      <td>$4.61</td>\n",
       "      <td>$13.83</td>\n",
       "    </tr>\n",
       "    <tr>\n",
       "      <th>Iral74</th>\n",
       "      <td>4</td>\n",
       "      <td>$3.40</td>\n",
       "      <td>$13.62</td>\n",
       "    </tr>\n",
       "    <tr>\n",
       "      <th>Iskadarya95</th>\n",
       "      <td>3</td>\n",
       "      <td>$4.37</td>\n",
       "      <td>$13.10</td>\n",
       "    </tr>\n",
       "  </tbody>\n",
       "</table>\n",
       "</div>"
      ],
      "text/plain": [
       "             Purchase Count Average Purchase Price Total Purchase Value\n",
       "SN                                                                     \n",
       "Lisosia93                 5                  $3.79               $18.96\n",
       "Idastidru52               4                  $3.86               $15.45\n",
       "Chamjask73                3                  $4.61               $13.83\n",
       "Iral74                    4                  $3.40               $13.62\n",
       "Iskadarya95               3                  $4.37               $13.10"
      ]
     },
     "execution_count": 8,
     "metadata": {},
     "output_type": "execute_result"
    }
   ],
   "source": []
  },
  {
   "cell_type": "markdown",
   "metadata": {},
   "source": [
    "## Most Popular Items"
   ]
  },
  {
   "cell_type": "markdown",
   "metadata": {},
   "source": [
    "* Retrieve the Item ID, Item Name, and Item Price columns\n",
    "\n",
    "\n",
    "* Group by Item ID and Item Name. Perform calculations to obtain purchase count, item price, and total purchase value\n",
    "\n",
    "\n",
    "* Create a summary data frame to hold the results\n",
    "\n",
    "\n",
    "* Sort the purchase count column in descending order\n",
    "\n",
    "\n",
    "* Optional: give the displayed data cleaner formatting\n",
    "\n",
    "\n",
    "* Display a preview of the summary data frame\n",
    "\n"
   ]
  },
  {
   "cell_type": "code",
   "execution_count": 9,
   "metadata": {},
   "outputs": [
    {
     "data": {
      "text/html": [
       "<div>\n",
       "<style scoped>\n",
       "    .dataframe tbody tr th:only-of-type {\n",
       "        vertical-align: middle;\n",
       "    }\n",
       "\n",
       "    .dataframe tbody tr th {\n",
       "        vertical-align: top;\n",
       "    }\n",
       "\n",
       "    .dataframe thead th {\n",
       "        text-align: right;\n",
       "    }\n",
       "</style>\n",
       "<table border=\"1\" class=\"dataframe\">\n",
       "  <thead>\n",
       "    <tr style=\"text-align: right;\">\n",
       "      <th></th>\n",
       "      <th></th>\n",
       "      <th>Purchase Count</th>\n",
       "      <th>Item Price</th>\n",
       "      <th>Total Purchase Value</th>\n",
       "    </tr>\n",
       "    <tr>\n",
       "      <th>Item ID</th>\n",
       "      <th>Item Name</th>\n",
       "      <th></th>\n",
       "      <th></th>\n",
       "      <th></th>\n",
       "    </tr>\n",
       "  </thead>\n",
       "  <tbody>\n",
       "    <tr>\n",
       "      <th>178</th>\n",
       "      <th>Oathbreaker, Last Hope of the Breaking Storm</th>\n",
       "      <td>12</td>\n",
       "      <td>$4.23</td>\n",
       "      <td>$50.76</td>\n",
       "    </tr>\n",
       "    <tr>\n",
       "      <th>145</th>\n",
       "      <th>Fiery Glass Crusader</th>\n",
       "      <td>9</td>\n",
       "      <td>$4.58</td>\n",
       "      <td>$41.22</td>\n",
       "    </tr>\n",
       "    <tr>\n",
       "      <th>108</th>\n",
       "      <th>Extraction, Quickblade Of Trembling Hands</th>\n",
       "      <td>9</td>\n",
       "      <td>$3.53</td>\n",
       "      <td>$31.77</td>\n",
       "    </tr>\n",
       "    <tr>\n",
       "      <th>82</th>\n",
       "      <th>Nirvana</th>\n",
       "      <td>9</td>\n",
       "      <td>$4.90</td>\n",
       "      <td>$44.10</td>\n",
       "    </tr>\n",
       "    <tr>\n",
       "      <th>19</th>\n",
       "      <th>Pursuit, Cudgel of Necromancy</th>\n",
       "      <td>8</td>\n",
       "      <td>$1.02</td>\n",
       "      <td>$8.16</td>\n",
       "    </tr>\n",
       "  </tbody>\n",
       "</table>\n",
       "</div>"
      ],
      "text/plain": [
       "                                                     Purchase Count  \\\n",
       "Item ID Item Name                                                     \n",
       "178     Oathbreaker, Last Hope of the Breaking Storm             12   \n",
       "145     Fiery Glass Crusader                                      9   \n",
       "108     Extraction, Quickblade Of Trembling Hands                 9   \n",
       "82      Nirvana                                                   9   \n",
       "19      Pursuit, Cudgel of Necromancy                             8   \n",
       "\n",
       "                                                     Item Price  \\\n",
       "Item ID Item Name                                                 \n",
       "178     Oathbreaker, Last Hope of the Breaking Storm      $4.23   \n",
       "145     Fiery Glass Crusader                              $4.58   \n",
       "108     Extraction, Quickblade Of Trembling Hands         $3.53   \n",
       "82      Nirvana                                           $4.90   \n",
       "19      Pursuit, Cudgel of Necromancy                     $1.02   \n",
       "\n",
       "                                                     Total Purchase Value  \n",
       "Item ID Item Name                                                          \n",
       "178     Oathbreaker, Last Hope of the Breaking Storm               $50.76  \n",
       "145     Fiery Glass Crusader                                       $41.22  \n",
       "108     Extraction, Quickblade Of Trembling Hands                  $31.77  \n",
       "82      Nirvana                                                    $44.10  \n",
       "19      Pursuit, Cudgel of Necromancy                               $8.16  "
      ]
     },
     "execution_count": 9,
     "metadata": {},
     "output_type": "execute_result"
    }
   ],
   "source": []
  },
  {
   "cell_type": "markdown",
   "metadata": {},
   "source": [
    "## Most Profitable Items"
   ]
  },
  {
   "cell_type": "markdown",
   "metadata": {},
   "source": [
    "* Sort the above table by total purchase value in descending order\n",
    "\n",
    "\n",
    "* Optional: give the displayed data cleaner formatting\n",
    "\n",
    "\n",
    "* Display a preview of the data frame\n",
    "\n"
   ]
  },
  {
   "cell_type": "code",
   "execution_count": 10,
   "metadata": {
    "scrolled": true
   },
   "outputs": [
    {
     "data": {
      "text/html": [
       "<div>\n",
       "<style scoped>\n",
       "    .dataframe tbody tr th:only-of-type {\n",
       "        vertical-align: middle;\n",
       "    }\n",
       "\n",
       "    .dataframe tbody tr th {\n",
       "        vertical-align: top;\n",
       "    }\n",
       "\n",
       "    .dataframe thead th {\n",
       "        text-align: right;\n",
       "    }\n",
       "</style>\n",
       "<table border=\"1\" class=\"dataframe\">\n",
       "  <thead>\n",
       "    <tr style=\"text-align: right;\">\n",
       "      <th></th>\n",
       "      <th></th>\n",
       "      <th>Purchase Count</th>\n",
       "      <th>Item Price</th>\n",
       "      <th>Total Purchase Value</th>\n",
       "    </tr>\n",
       "    <tr>\n",
       "      <th>Item ID</th>\n",
       "      <th>Item Name</th>\n",
       "      <th></th>\n",
       "      <th></th>\n",
       "      <th></th>\n",
       "    </tr>\n",
       "  </thead>\n",
       "  <tbody>\n",
       "    <tr>\n",
       "      <th>178</th>\n",
       "      <th>Oathbreaker, Last Hope of the Breaking Storm</th>\n",
       "      <td>12</td>\n",
       "      <td>$4.23</td>\n",
       "      <td>$50.76</td>\n",
       "    </tr>\n",
       "    <tr>\n",
       "      <th>82</th>\n",
       "      <th>Nirvana</th>\n",
       "      <td>9</td>\n",
       "      <td>$4.90</td>\n",
       "      <td>$44.10</td>\n",
       "    </tr>\n",
       "    <tr>\n",
       "      <th>145</th>\n",
       "      <th>Fiery Glass Crusader</th>\n",
       "      <td>9</td>\n",
       "      <td>$4.58</td>\n",
       "      <td>$41.22</td>\n",
       "    </tr>\n",
       "    <tr>\n",
       "      <th>92</th>\n",
       "      <th>Final Critic</th>\n",
       "      <td>8</td>\n",
       "      <td>$4.88</td>\n",
       "      <td>$39.04</td>\n",
       "    </tr>\n",
       "    <tr>\n",
       "      <th>103</th>\n",
       "      <th>Singed Scalpel</th>\n",
       "      <td>8</td>\n",
       "      <td>$4.35</td>\n",
       "      <td>$34.80</td>\n",
       "    </tr>\n",
       "  </tbody>\n",
       "</table>\n",
       "</div>"
      ],
      "text/plain": [
       "                                                     Purchase Count  \\\n",
       "Item ID Item Name                                                     \n",
       "178     Oathbreaker, Last Hope of the Breaking Storm             12   \n",
       "82      Nirvana                                                   9   \n",
       "145     Fiery Glass Crusader                                      9   \n",
       "92      Final Critic                                              8   \n",
       "103     Singed Scalpel                                            8   \n",
       "\n",
       "                                                     Item Price  \\\n",
       "Item ID Item Name                                                 \n",
       "178     Oathbreaker, Last Hope of the Breaking Storm      $4.23   \n",
       "82      Nirvana                                           $4.90   \n",
       "145     Fiery Glass Crusader                              $4.58   \n",
       "92      Final Critic                                      $4.88   \n",
       "103     Singed Scalpel                                    $4.35   \n",
       "\n",
       "                                                     Total Purchase Value  \n",
       "Item ID Item Name                                                          \n",
       "178     Oathbreaker, Last Hope of the Breaking Storm               $50.76  \n",
       "82      Nirvana                                                    $44.10  \n",
       "145     Fiery Glass Crusader                                       $41.22  \n",
       "92      Final Critic                                               $39.04  \n",
       "103     Singed Scalpel                                             $34.80  "
      ]
     },
     "execution_count": 10,
     "metadata": {},
     "output_type": "execute_result"
    }
   ],
   "source": []
  }
 ],
 "metadata": {
  "anaconda-cloud": {},
  "kernel_info": {
   "name": "python3"
  },
  "kernelspec": {
   "display_name": "Python 3",
   "language": "python",
   "name": "python3"
  },
  "language_info": {
   "codemirror_mode": {
    "name": "ipython",
    "version": 3
   },
   "file_extension": ".py",
   "mimetype": "text/x-python",
   "name": "python",
   "nbconvert_exporter": "python",
   "pygments_lexer": "ipython3",
   "version": "3.7.3"
  },
  "latex_envs": {
   "LaTeX_envs_menu_present": true,
   "autoclose": false,
   "autocomplete": true,
   "bibliofile": "biblio.bib",
   "cite_by": "apalike",
   "current_citInitial": 1,
   "eqLabelWithNumbers": true,
   "eqNumInitial": 1,
   "hotkeys": {
    "equation": "Ctrl-E",
    "itemize": "Ctrl-I"
   },
   "labels_anchors": false,
   "latex_user_defs": false,
   "report_style_numbering": false,
   "user_envs_cfg": false
  },
  "nteract": {
   "version": "0.2.0"
  }
 },
 "nbformat": 4,
 "nbformat_minor": 2
}