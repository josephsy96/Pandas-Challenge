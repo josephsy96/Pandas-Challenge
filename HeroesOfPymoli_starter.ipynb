{
 "cells": [
  {
   "cell_type": "markdown",
   "metadata": {},
   "source": [
    "### Note\n",
    "* Instructions have been included for each segment. You do not have to follow them exactly, but they are included to help you think through the steps."
   ]
  },
  {
   "cell_type": "code",
   "execution_count": 1,
   "metadata": {},
   "outputs": [
    {
     "data": {
      "text/html": "<div>\n<style scoped>\n    .dataframe tbody tr th:only-of-type {\n        vertical-align: middle;\n    }\n\n    .dataframe tbody tr th {\n        vertical-align: top;\n    }\n\n    .dataframe thead th {\n        text-align: right;\n    }\n</style>\n<table border=\"1\" class=\"dataframe\">\n  <thead>\n    <tr style=\"text-align: right;\">\n      <th></th>\n      <th>Purchase ID</th>\n      <th>SN</th>\n      <th>Age</th>\n      <th>Gender</th>\n      <th>Item ID</th>\n      <th>Item Name</th>\n      <th>Price</th>\n    </tr>\n  </thead>\n  <tbody>\n    <tr>\n      <th>0</th>\n      <td>0</td>\n      <td>Lisim78</td>\n      <td>20</td>\n      <td>Male</td>\n      <td>108</td>\n      <td>Extraction, Quickblade Of Trembling Hands</td>\n      <td>3.53</td>\n    </tr>\n    <tr>\n      <th>1</th>\n      <td>1</td>\n      <td>Lisovynya38</td>\n      <td>40</td>\n      <td>Male</td>\n      <td>143</td>\n      <td>Frenzied Scimitar</td>\n      <td>1.56</td>\n    </tr>\n    <tr>\n      <th>2</th>\n      <td>2</td>\n      <td>Ithergue48</td>\n      <td>24</td>\n      <td>Male</td>\n      <td>92</td>\n      <td>Final Critic</td>\n      <td>4.88</td>\n    </tr>\n    <tr>\n      <th>3</th>\n      <td>3</td>\n      <td>Chamassasya86</td>\n      <td>24</td>\n      <td>Male</td>\n      <td>100</td>\n      <td>Blindscythe</td>\n      <td>3.27</td>\n    </tr>\n    <tr>\n      <th>4</th>\n      <td>4</td>\n      <td>Iskosia90</td>\n      <td>23</td>\n      <td>Male</td>\n      <td>131</td>\n      <td>Fury</td>\n      <td>1.44</td>\n    </tr>\n  </tbody>\n</table>\n</div>",
      "text/plain": "   Purchase ID             SN  Age Gender  Item ID  \\\n0            0        Lisim78   20   Male      108   \n1            1    Lisovynya38   40   Male      143   \n2            2     Ithergue48   24   Male       92   \n3            3  Chamassasya86   24   Male      100   \n4            4      Iskosia90   23   Male      131   \n\n                                   Item Name  Price  \n0  Extraction, Quickblade Of Trembling Hands   3.53  \n1                          Frenzied Scimitar   1.56  \n2                               Final Critic   4.88  \n3                                Blindscythe   3.27  \n4                                       Fury   1.44  "
     },
     "execution_count": 1,
     "metadata": {},
     "output_type": "execute_result"
    }
   ],
   "source": [
    "# Dependencies and Setup\n",
    "import pandas as pd\n",
    "\n",
    "# File to Load (Remember to Change These)\n",
    "file_to_load = \"Resources/purchase_data.csv\"\n",
    "\n",
    "# Read Purchasing File and store into Pandas data frame\n",
    "purchase_data = pd.read_csv(file_to_load)\n",
    "purchase_data.head()"
   ]
  },
  {
   "cell_type": "markdown",
   "metadata": {},
   "source": [
    "## Player Count"
   ]
  },
  {
   "cell_type": "markdown",
   "metadata": {},
   "source": [
    "* Display the total number of players\n"
   ]
  },
  {
   "cell_type": "code",
   "execution_count": 2,
   "metadata": {},
   "outputs": [
    {
     "data": {
      "text/plain": "576"
     },
     "execution_count": 2,
     "metadata": {},
     "output_type": "execute_result"
    }
   ],
   "source": [
    "#This is to display the total number of players\n",
    "total_players = len(purchase_data['SN'].unique())\n",
    "total_players\n",
    "\n"
   ]
  },
  {
   "cell_type": "markdown",
   "metadata": {},
   "source": [
    "## Purchasing Analysis (Total)"
   ]
  },
  {
   "cell_type": "markdown",
   "metadata": {},
   "source": [
    "* Run basic calculations to obtain number of unique items, average price, etc.\n",
    "\n",
    "\n",
    "* Create a summary data frame to hold the results\n",
    "\n",
    "\n",
    "* Optional: give the displayed data cleaner formatting\n",
    "\n",
    "\n",
    "* Display the summary data frame\n"
   ]
  },
  {
   "cell_type": "code",
   "execution_count": 3,
   "metadata": {},
   "outputs": [],
   "source": [
    "#This is to find the Number of Unique Items\n",
    "unique_items = len(purchase_data['Item Name'].unique())\n",
    "\n",
    "#This is to find the average price \n",
    "average_price = round(purchase_data['Price'].mean(),2)\n",
    "\n",
    "#This is the find the number of purchases \n",
    "number_purchases = len(purchase_data['Purchase ID'])\n",
    "\n",
    "#This to find the total revenue\n",
    "total_revenue = round(purchase_data['Price'].sum(),2)\n"
   ]
  },
  {
   "cell_type": "code",
   "execution_count": 4,
   "metadata": {},
   "outputs": [
    {
     "data": {
      "text/html": "<div>\n<style scoped>\n    .dataframe tbody tr th:only-of-type {\n        vertical-align: middle;\n    }\n\n    .dataframe tbody tr th {\n        vertical-align: top;\n    }\n\n    .dataframe thead th {\n        text-align: right;\n    }\n</style>\n<table border=\"1\" class=\"dataframe\">\n  <thead>\n    <tr style=\"text-align: right;\">\n      <th></th>\n      <th>Unique Item Count</th>\n      <th>Average Price</th>\n      <th>Total Number of Purchases</th>\n      <th>Total Revenue</th>\n    </tr>\n  </thead>\n  <tbody>\n    <tr>\n      <th>0</th>\n      <td>179</td>\n      <td>$3.05</td>\n      <td>780</td>\n      <td>$2,379.77</td>\n    </tr>\n  </tbody>\n</table>\n</div>",
      "text/plain": "   Unique Item Count Average Price  Total Number of Purchases Total Revenue\n0                179         $3.05                        780     $2,379.77"
     },
     "execution_count": 4,
     "metadata": {},
     "output_type": "execute_result"
    }
   ],
   "source": [
    "#Create a new summary dataframe\n",
    "pur_sum = pd.DataFrame({'Unique Item Count':[unique_items], \n",
    "                        'Average Price':[average_price],\n",
    "                        'Total Number of Purchases':[number_purchases],\n",
    "                        'Total Revenue':[total_revenue]})\n",
    "pur_sum['Total Revenue'] = pur_sum['Total Revenue'].astype(float).map(\"${:,.2f}\".format)\n",
    "pur_sum['Average Price'] = pur_sum['Average Price'].astype(float).map(\"${:,.2f}\".format)\n",
    "pur_sum\n"
   ]
  },
  {
   "cell_type": "markdown",
   "metadata": {},
   "source": [
    "## Gender Demographics"
   ]
  },
  {
   "cell_type": "markdown",
   "metadata": {},
   "source": [
    "* Percentage and Count of Male Players\n",
    "\n",
    "\n",
    "* Percentage and Count of Female Players\n",
    "\n",
    "\n",
    "* Percentage and Count of Other / Non-Disclosed\n",
    "\n",
    "\n"
   ]
  },
  {
   "cell_type": "code",
   "execution_count": 5,
   "metadata": {},
   "outputs": [
    {
     "data": {
      "text/plain": "array(['Male', 'Other / Non-Disclosed', 'Female'], dtype=object)"
     },
     "execution_count": 5,
     "metadata": {},
     "output_type": "execute_result"
    }
   ],
   "source": [
    "purchase_data['Gender'].unique()"
   ]
  },
  {
   "cell_type": "code",
   "execution_count": 6,
   "metadata": {},
   "outputs": [],
   "source": [
    "#Find total gender counts based on sex\n",
    "male = purchase_data.loc[purchase_data['Gender'] == 'Male',:]\n",
    "female = purchase_data.loc[purchase_data['Gender'] == 'Female',:]\n",
    "other = purchase_data.loc[purchase_data['Gender'] == 'Other / Non-Disclosed',:]\n",
    "\n",
    "#find unique gender counts\n",
    "male_uni = len(male['SN'].unique())\n",
    "female_uni = len(female['SN'].unique())\n",
    "other_uni = len(other['SN'].unique())\n",
    "#find pct gender\n",
    "male_pct = round((male_uni/total_players)*100,2)\n",
    "female_pct = round((female_uni/total_players)*100,2)\n",
    "other_pct = round((other_uni/total_players)*100,2)\n",
    "\n",
    "\n",
    "#find percentage of sex\n",
    "#ct_gender = round((total_gender/number_purchases)*100,2)"
   ]
  },
  {
   "cell_type": "code",
   "execution_count": 7,
   "metadata": {},
   "outputs": [
    {
     "data": {
      "text/html": "<div>\n<style scoped>\n    .dataframe tbody tr th:only-of-type {\n        vertical-align: middle;\n    }\n\n    .dataframe tbody tr th {\n        vertical-align: top;\n    }\n\n    .dataframe thead th {\n        text-align: right;\n    }\n</style>\n<table border=\"1\" class=\"dataframe\">\n  <thead>\n    <tr style=\"text-align: right;\">\n      <th></th>\n      <th>Total Count</th>\n      <th>Percentage of Players</th>\n    </tr>\n  </thead>\n  <tbody>\n    <tr>\n      <th>Female</th>\n      <td>81</td>\n      <td>14.06%</td>\n    </tr>\n    <tr>\n      <th>Male</th>\n      <td>484</td>\n      <td>84.03%</td>\n    </tr>\n    <tr>\n      <th>Other / Non-Disclosed</th>\n      <td>11</td>\n      <td>1.91%</td>\n    </tr>\n  </tbody>\n</table>\n</div>",
      "text/plain": "                       Total Count Percentage of Players\nFemale                          81                14.06%\nMale                           484                84.03%\nOther / Non-Disclosed           11                 1.91%"
     },
     "execution_count": 7,
     "metadata": {},
     "output_type": "execute_result"
    }
   ],
   "source": [
    "total_gender = pd.DataFrame({'Total Count': {'Female':female_uni,'Male':male_uni,\n",
    "                            'Other / Non-Disclosed':other_uni},'Percentage of Players':{'Male':male_pct,'Female':female_pct,'Other / Non-Disclosed':other_pct}})\n",
    "total_gender['Percentage of Players'] = total_gender['Percentage of Players'].astype(float).map('{:,.2f}%'.format)\n",
    "total_gender"
   ]
  },
  {
   "cell_type": "code",
   "execution_count": 8,
   "metadata": {},
   "outputs": [],
   "source": [
    "#Create gender dataframe\n",
    "\n",
    "#gender_sum = pd.DataFrame({'Total Count':total_gender,'Percentage of Players':pct_gender})\n",
    "#gender_sum"
   ]
  },
  {
   "cell_type": "markdown",
   "metadata": {},
   "source": [
    "\n",
    "## Purchasing Analysis (Gender)"
   ]
  },
  {
   "cell_type": "markdown",
   "metadata": {},
   "source": [
    "* Run basic calculations to obtain purchase count, avg. purchase price, avg. purchase total per person etc. by gender\n",
    "\n",
    "\n",
    "\n",
    "\n",
    "* Create a summary data frame to hold the results\n",
    "\n",
    "\n",
    "* Optional: give the displayed data cleaner formatting\n",
    "\n",
    "\n",
    "* Display the summary data frame"
   ]
  },
  {
   "cell_type": "code",
   "execution_count": 9,
   "metadata": {},
   "outputs": [],
   "source": [
    "#total purchase count on gender\n",
    "male_count = male['Gender'].count()\n",
    "female_count = female['Gender'].count()\n",
    "other_count = other['Gender'].count()\n"
   ]
  },
  {
   "cell_type": "code",
   "execution_count": 10,
   "metadata": {},
   "outputs": [],
   "source": [
    "#total purchase value\n",
    "male_total = male['Price'].sum()\n",
    "female_total = female['Price'].sum()\n",
    "other_total = other['Price'].sum()\n"
   ]
  },
  {
   "cell_type": "code",
   "execution_count": 11,
   "metadata": {},
   "outputs": [],
   "source": [
    "#average purchase price\n",
    "male_avg = round((male_total/male_count),2)\n",
    "female_avg = round((female_total/female_count),2)\n",
    "other_avg = round((other_total/other_count),2)\n"
   ]
  },
  {
   "cell_type": "code",
   "execution_count": 12,
   "metadata": {},
   "outputs": [],
   "source": [
    "#gender per person\n",
    "male_per = round((male_total/male_uni),2)\n",
    "female_per = round((female_total/female_uni),2)\n",
    "other_per = round((other_total/other_uni),2)\n",
    "\n",
    "#gender per person dataframe\n",
    "gender_per_person = pd.DataFrame({'Avg Total Purchase per Person':{'Male':male_per,'Female':female_per,'Other / Non-Disclosed':other_per}})"
   ]
  },
  {
   "cell_type": "code",
   "execution_count": 13,
   "metadata": {},
   "outputs": [
    {
     "data": {
      "text/html": "<div>\n<style scoped>\n    .dataframe tbody tr th:only-of-type {\n        vertical-align: middle;\n    }\n\n    .dataframe tbody tr th {\n        vertical-align: top;\n    }\n\n    .dataframe thead th {\n        text-align: right;\n    }\n</style>\n<table border=\"1\" class=\"dataframe\">\n  <thead>\n    <tr style=\"text-align: right;\">\n      <th></th>\n      <th>Purchase Count</th>\n      <th>Total Purchase Value</th>\n      <th>Average Purchase Price</th>\n      <th>Avg Total Purchase per Person</th>\n    </tr>\n    <tr>\n      <th>Gender</th>\n      <th></th>\n      <th></th>\n      <th></th>\n      <th></th>\n    </tr>\n  </thead>\n  <tbody>\n    <tr>\n      <th>Female</th>\n      <td>113</td>\n      <td>361.94</td>\n      <td>3.20</td>\n      <td>4.47</td>\n    </tr>\n    <tr>\n      <th>Male</th>\n      <td>652</td>\n      <td>1967.64</td>\n      <td>3.02</td>\n      <td>4.07</td>\n    </tr>\n    <tr>\n      <th>Other / Non-Disclosed</th>\n      <td>15</td>\n      <td>50.19</td>\n      <td>3.35</td>\n      <td>4.56</td>\n    </tr>\n  </tbody>\n</table>\n</div>",
      "text/plain": "                       Purchase Count  Total Purchase Value  \\\nGender                                                        \nFemale                            113                361.94   \nMale                              652               1967.64   \nOther / Non-Disclosed              15                 50.19   \n\n                       Average Purchase Price  Avg Total Purchase per Person  \nGender                                                                        \nFemale                                   3.20                           4.47  \nMale                                     3.02                           4.07  \nOther / Non-Disclosed                    3.35                           4.56  "
     },
     "execution_count": 13,
     "metadata": {},
     "output_type": "execute_result"
    }
   ],
   "source": [
    "#Yes... I know this was very convoluted, did not know the .nunique() function at the time.... \n",
    "gender_purchase_summary = pd.DataFrame({'Purchase Count':{'Male':male_count,'Female':female_count,'Other / Non-Disclosed':other_count},\n",
    "                            'Total Purchase Value':{'Male':male_total,'Female':female_total,'Other / Non-Disclosed':other_total},\n",
    "                            'Average Purchase Price':{'Male':male_avg,'Female':female_avg,'Other / Non-Disclosed':other_avg},\n",
    "                            'Avg Total Purchase per Person':{'Male':male_per,'Female':female_per,'Other / Non-Disclosed':other_per}})\n",
    "\n",
    "\n",
    "gender_purchase_summary.index.name = 'Gender'\n",
    "gender_purchase_summary "
   ]
  },
  {
   "cell_type": "markdown",
   "metadata": {},
   "source": [
    "\n",
    "## Age Demographics"
   ]
  },
  {
   "cell_type": "markdown",
   "metadata": {},
   "source": [
    "* Establish bins for ages\n",
    "\n",
    "\n",
    "* Categorize the existing players using the age bins. Hint: use pd.cut()\n",
    "\n",
    "\n",
    "* Calculate the numbers and percentages by age group\n",
    "\n",
    "\n",
    "* Create a summary data frame to hold the results\n",
    "\n",
    "\n",
    "* Optional: round the percentage column to two decimal points\n",
    "\n",
    "\n",
    "* Display Age Demographics Table\n"
   ]
  },
  {
   "cell_type": "code",
   "execution_count": 14,
   "metadata": {},
   "outputs": [],
   "source": [
    "#purchase_data.describe()"
   ]
  },
  {
   "cell_type": "code",
   "execution_count": 15,
   "metadata": {},
   "outputs": [],
   "source": [
    "#create bin\n",
    "age_bin = [0,9,14,19,24,29,34,39,50]\n",
    "age_labels = ['<10','10-14','15-19','20-24','25-29','30-34','35-39','40+']"
   ]
  },
  {
   "cell_type": "code",
   "execution_count": 16,
   "metadata": {},
   "outputs": [
    {
     "data": {
      "text/html": "<div>\n<style scoped>\n    .dataframe tbody tr th:only-of-type {\n        vertical-align: middle;\n    }\n\n    .dataframe tbody tr th {\n        vertical-align: top;\n    }\n\n    .dataframe thead th {\n        text-align: right;\n    }\n</style>\n<table border=\"1\" class=\"dataframe\">\n  <thead>\n    <tr style=\"text-align: right;\">\n      <th></th>\n      <th>Total Count</th>\n      <th>Percentage of Players</th>\n    </tr>\n    <tr>\n      <th>Age Bin</th>\n      <th></th>\n      <th></th>\n    </tr>\n  </thead>\n  <tbody>\n    <tr>\n      <th>&lt;10</th>\n      <td>17</td>\n      <td>2.95%</td>\n    </tr>\n    <tr>\n      <th>10-14</th>\n      <td>22</td>\n      <td>3.82%</td>\n    </tr>\n    <tr>\n      <th>15-19</th>\n      <td>107</td>\n      <td>18.58%</td>\n    </tr>\n    <tr>\n      <th>20-24</th>\n      <td>258</td>\n      <td>44.79%</td>\n    </tr>\n    <tr>\n      <th>25-29</th>\n      <td>77</td>\n      <td>13.37%</td>\n    </tr>\n    <tr>\n      <th>30-34</th>\n      <td>52</td>\n      <td>9.03%</td>\n    </tr>\n    <tr>\n      <th>35-39</th>\n      <td>31</td>\n      <td>5.38%</td>\n    </tr>\n    <tr>\n      <th>40+</th>\n      <td>12</td>\n      <td>2.08%</td>\n    </tr>\n  </tbody>\n</table>\n</div>",
      "text/plain": "         Total Count Percentage of Players\nAge Bin                                   \n<10               17                 2.95%\n10-14             22                 3.82%\n15-19            107                18.58%\n20-24            258                44.79%\n25-29             77                13.37%\n30-34             52                 9.03%\n35-39             31                 5.38%\n40+               12                 2.08%"
     },
     "execution_count": 16,
     "metadata": {},
     "output_type": "execute_result"
    }
   ],
   "source": [
    "#player_uni = list(purchase_data['SN'].unique())\n",
    "\n",
    "purchase_data['Age Bin'] = pd.cut(purchase_data['Age'], age_bin, labels=age_labels)\n",
    "\n",
    "bin_column = purchase_data.groupby('Age Bin')\n",
    "\n",
    "#numeric version\n",
    "age_df = bin_column['SN'].nunique()\n",
    "age_pct = round((age_df/total_players)*100,2)\n",
    "age_sum = pd.DataFrame({'Total Count':age_df,'Percentage of Players':age_pct})\n",
    "\n",
    "#Float percent version NOTE:If you need to calculate anymore values in the future\n",
    "age_format = pd.DataFrame({'Total Count':age_df,'Percentage of Players':age_pct})\n",
    "age_format['Percentage of Players'] = age_format['Percentage of Players'].astype(float).map('{:,.2f}%'.format)\n",
    "age_format\n"
   ]
  },
  {
   "cell_type": "markdown",
   "metadata": {},
   "source": [
    "## Purchasing Analysis (Age)"
   ]
  },
  {
   "cell_type": "markdown",
   "metadata": {},
   "source": [
    "* Bin the purchase_data data frame by age\n",
    "\n",
    "\n",
    "* Run basic calculations to obtain purchase count, avg. purchase price, avg. purchase total per person etc. in the table below\n",
    "\n",
    "\n",
    "* Create a summary data frame to hold the results\n",
    "\n",
    "\n",
    "* Optional: give the displayed data cleaner formatting\n",
    "\n",
    "\n",
    "* Display the summary data frame"
   ]
  },
  {
   "cell_type": "code",
   "execution_count": 23,
   "metadata": {},
   "outputs": [],
   "source": [
    "#Calculating the purchase data based on age\n",
    "age_purchase = bin_column['Age Bin'].count()\n",
    "\n",
    "age_purchase_total = bin_column['Price'].sum()\n",
    "\n",
    "age_avg_purch = round((age_purchase_total/age_purchase),2)\n",
    "\n",
    "age_avg_per = round((age_purchase_total/age_df),2)\n"
   ]
  },
  {
   "cell_type": "code",
   "execution_count": 26,
   "metadata": {},
   "outputs": [
    {
     "data": {
      "text/html": "<div>\n<style scoped>\n    .dataframe tbody tr th:only-of-type {\n        vertical-align: middle;\n    }\n\n    .dataframe tbody tr th {\n        vertical-align: top;\n    }\n\n    .dataframe thead th {\n        text-align: right;\n    }\n</style>\n<table border=\"1\" class=\"dataframe\">\n  <thead>\n    <tr style=\"text-align: right;\">\n      <th></th>\n      <th>Purchase Count</th>\n      <th>Average Purchase Price</th>\n      <th>Total Purchase Value</th>\n      <th>Average Total Purchase per Person</th>\n    </tr>\n    <tr>\n      <th>Age Ranges</th>\n      <th></th>\n      <th></th>\n      <th></th>\n      <th></th>\n    </tr>\n  </thead>\n  <tbody>\n    <tr>\n      <th>&lt;10</th>\n      <td>23</td>\n      <td>$3.35</td>\n      <td>$77.13</td>\n      <td>$4.54</td>\n    </tr>\n    <tr>\n      <th>10-14</th>\n      <td>28</td>\n      <td>$2.96</td>\n      <td>$82.78</td>\n      <td>$3.76</td>\n    </tr>\n    <tr>\n      <th>15-19</th>\n      <td>136</td>\n      <td>$3.04</td>\n      <td>$412.89</td>\n      <td>$3.86</td>\n    </tr>\n    <tr>\n      <th>20-24</th>\n      <td>365</td>\n      <td>$3.05</td>\n      <td>$1,114.06</td>\n      <td>$4.32</td>\n    </tr>\n    <tr>\n      <th>25-29</th>\n      <td>101</td>\n      <td>$2.90</td>\n      <td>$293.00</td>\n      <td>$3.81</td>\n    </tr>\n    <tr>\n      <th>30-34</th>\n      <td>73</td>\n      <td>$2.93</td>\n      <td>$214.00</td>\n      <td>$4.12</td>\n    </tr>\n    <tr>\n      <th>35-39</th>\n      <td>41</td>\n      <td>$3.60</td>\n      <td>$147.67</td>\n      <td>$4.76</td>\n    </tr>\n    <tr>\n      <th>40+</th>\n      <td>13</td>\n      <td>$2.94</td>\n      <td>$38.24</td>\n      <td>$3.19</td>\n    </tr>\n  </tbody>\n</table>\n</div>",
      "text/plain": "            Purchase Count Average Purchase Price Total Purchase Value  \\\nAge Ranges                                                               \n<10                     23                  $3.35               $77.13   \n10-14                   28                  $2.96               $82.78   \n15-19                  136                  $3.04              $412.89   \n20-24                  365                  $3.05            $1,114.06   \n25-29                  101                  $2.90              $293.00   \n30-34                   73                  $2.93              $214.00   \n35-39                   41                  $3.60              $147.67   \n40+                     13                  $2.94               $38.24   \n\n           Average Total Purchase per Person  \nAge Ranges                                    \n<10                                    $4.54  \n10-14                                  $3.76  \n15-19                                  $3.86  \n20-24                                  $4.32  \n25-29                                  $3.81  \n30-34                                  $4.12  \n35-39                                  $4.76  \n40+                                    $3.19  "
     },
     "execution_count": 26,
     "metadata": {},
     "output_type": "execute_result"
    }
   ],
   "source": [
    "#Purchase Age Analysis numeric form NOTE:If you need to calculate anymore values in the future\n",
    "purchase_age_sum = pd.DataFrame({'Purchase Count':age_purchase,'Average Purchase Price': age_avg_purch,'Total Purchase Value':age_purchase_total,'Average Total Purchase per Person': age_avg_per})\n",
    "purchase_age_sum.index.name = \"Age Ranges\"\n",
    "\n",
    "#Purchase Age Analysis Formated Chart\n",
    "purchase_sum_format = pd.DataFrame({'Purchase Count':age_purchase,'Average Purchase Price': age_avg_purch,'Total Purchase Value':age_purchase_total,'Average Total Purchase per Person': age_avg_per})\n",
    "purchase_sum_format.index.name = \"Age Ranges\"\n",
    "\n",
    "purchase_sum_format['Average Purchase Price'] = purchase_sum_format['Average Purchase Price'].astype(float).map('${:,.2f}'.format)\n",
    "purchase_sum_format['Total Purchase Value'] = purchase_sum_format['Total Purchase Value'].astype(float).map('${:,.2f}'.format)\n",
    "purchase_sum_format['Average Total Purchase per Person'] = purchase_sum_format['Average Total Purchase per Person'].astype(float).map('${:,.2f}'.format)\n",
    "purchase_sum_format"
   ]
  },
  {
   "cell_type": "markdown",
   "metadata": {},
   "source": [
    "## Top Spenders"
   ]
  },
  {
   "cell_type": "markdown",
   "metadata": {},
   "source": [
    "* Run basic calculations to obtain the results in the table below\n",
    "\n",
    "\n",
    "* Create a summary data frame to hold the results\n",
    "\n",
    "\n",
    "* Sort the total purchase value column in descending order\n",
    "\n",
    "\n",
    "* Optional: give the displayed data cleaner formatting\n",
    "\n",
    "\n",
    "* Display a preview of the summary data frame\n",
    "\n"
   ]
  },
  {
   "cell_type": "code",
   "execution_count": 66,
   "metadata": {},
   "outputs": [],
   "source": [
    "#calculations to create the top spenders table.\n",
    "sn_count = purchase_data.groupby('SN')\n",
    "\n",
    "sn_df = sn_count['SN'].count()\n",
    "\n",
    "sn_price = sn_count['Price'].sum()\n",
    "\n",
    "sn_avg = round((sn_price/sn_df),2)\n"
   ]
  },
  {
   "cell_type": "code",
   "execution_count": 76,
   "metadata": {},
   "outputs": [
    {
     "data": {
      "text/html": "<div>\n<style scoped>\n    .dataframe tbody tr th:only-of-type {\n        vertical-align: middle;\n    }\n\n    .dataframe tbody tr th {\n        vertical-align: top;\n    }\n\n    .dataframe thead th {\n        text-align: right;\n    }\n</style>\n<table border=\"1\" class=\"dataframe\">\n  <thead>\n    <tr style=\"text-align: right;\">\n      <th></th>\n      <th>Purchase Count</th>\n      <th>Average Purchase Price</th>\n      <th>Total Purchase Value</th>\n    </tr>\n    <tr>\n      <th>SN</th>\n      <th></th>\n      <th></th>\n      <th></th>\n    </tr>\n  </thead>\n  <tbody>\n    <tr>\n      <th>Lisosia93</th>\n      <td>5</td>\n      <td>3.79</td>\n      <td>18.96</td>\n    </tr>\n    <tr>\n      <th>Iral74</th>\n      <td>4</td>\n      <td>3.40</td>\n      <td>13.62</td>\n    </tr>\n    <tr>\n      <th>Idastidru52</th>\n      <td>4</td>\n      <td>3.86</td>\n      <td>15.45</td>\n    </tr>\n    <tr>\n      <th>Asur53</th>\n      <td>3</td>\n      <td>2.48</td>\n      <td>7.44</td>\n    </tr>\n    <tr>\n      <th>Inguron55</th>\n      <td>3</td>\n      <td>3.70</td>\n      <td>11.11</td>\n    </tr>\n    <tr>\n      <th>Aina42</th>\n      <td>3</td>\n      <td>3.07</td>\n      <td>9.22</td>\n    </tr>\n    <tr>\n      <th>Ilarin91</th>\n      <td>3</td>\n      <td>4.23</td>\n      <td>12.70</td>\n    </tr>\n    <tr>\n      <th>Idai61</th>\n      <td>3</td>\n      <td>2.74</td>\n      <td>8.23</td>\n    </tr>\n    <tr>\n      <th>Umolrian85</th>\n      <td>3</td>\n      <td>2.71</td>\n      <td>8.13</td>\n    </tr>\n    <tr>\n      <th>Ialallo29</th>\n      <td>3</td>\n      <td>3.95</td>\n      <td>11.84</td>\n    </tr>\n    <tr>\n      <th>Tyisur83</th>\n      <td>3</td>\n      <td>1.79</td>\n      <td>5.36</td>\n    </tr>\n    <tr>\n      <th>Tyidaim51</th>\n      <td>3</td>\n      <td>3.94</td>\n      <td>11.83</td>\n    </tr>\n    <tr>\n      <th>Pheodaisun84</th>\n      <td>3</td>\n      <td>2.77</td>\n      <td>8.31</td>\n    </tr>\n    <tr>\n      <th>Hiaral50</th>\n      <td>3</td>\n      <td>1.40</td>\n      <td>4.19</td>\n    </tr>\n    <tr>\n      <th>Haillyrgue51</th>\n      <td>3</td>\n      <td>3.17</td>\n      <td>9.50</td>\n    </tr>\n    <tr>\n      <th>Zontibe81</th>\n      <td>3</td>\n      <td>2.68</td>\n      <td>8.03</td>\n    </tr>\n    <tr>\n      <th>Iri67</th>\n      <td>3</td>\n      <td>3.79</td>\n      <td>11.37</td>\n    </tr>\n    <tr>\n      <th>Hada39</th>\n      <td>3</td>\n      <td>2.86</td>\n      <td>8.57</td>\n    </tr>\n    <tr>\n      <th>Raesty92</th>\n      <td>3</td>\n      <td>2.91</td>\n      <td>8.73</td>\n    </tr>\n    <tr>\n      <th>Rarallo90</th>\n      <td>3</td>\n      <td>3.02</td>\n      <td>9.05</td>\n    </tr>\n    <tr>\n      <th>Chadolyla44</th>\n      <td>3</td>\n      <td>3.82</td>\n      <td>11.46</td>\n    </tr>\n    <tr>\n      <th>Saedaiphos46</th>\n      <td>3</td>\n      <td>2.94</td>\n      <td>8.83</td>\n    </tr>\n    <tr>\n      <th>Saistyphos30</th>\n      <td>3</td>\n      <td>3.44</td>\n      <td>10.33</td>\n    </tr>\n    <tr>\n      <th>Siallylis44</th>\n      <td>3</td>\n      <td>3.46</td>\n      <td>10.37</td>\n    </tr>\n    <tr>\n      <th>Chamimla85</th>\n      <td>3</td>\n      <td>2.10</td>\n      <td>6.30</td>\n    </tr>\n    <tr>\n      <th>Silaera56</th>\n      <td>3</td>\n      <td>2.83</td>\n      <td>8.48</td>\n    </tr>\n    <tr>\n      <th>Chamjask73</th>\n      <td>3</td>\n      <td>4.61</td>\n      <td>13.83</td>\n    </tr>\n    <tr>\n      <th>Chanastnya43</th>\n      <td>3</td>\n      <td>2.94</td>\n      <td>8.82</td>\n    </tr>\n    <tr>\n      <th>Strithenu87</th>\n      <td>3</td>\n      <td>3.39</td>\n      <td>10.18</td>\n    </tr>\n    <tr>\n      <th>Sondastsda82</th>\n      <td>3</td>\n      <td>2.63</td>\n      <td>7.89</td>\n    </tr>\n    <tr>\n      <th>...</th>\n      <td>...</td>\n      <td>...</td>\n      <td>...</td>\n    </tr>\n    <tr>\n      <th>Haerith37</th>\n      <td>1</td>\n      <td>1.66</td>\n      <td>1.66</td>\n    </tr>\n    <tr>\n      <th>Iduelis31</th>\n      <td>1</td>\n      <td>1.10</td>\n      <td>1.10</td>\n    </tr>\n    <tr>\n      <th>Hiral75</th>\n      <td>1</td>\n      <td>1.98</td>\n      <td>1.98</td>\n    </tr>\n    <tr>\n      <th>Idaisuir85</th>\n      <td>1</td>\n      <td>3.15</td>\n      <td>3.15</td>\n    </tr>\n    <tr>\n      <th>Idacal95</th>\n      <td>1</td>\n      <td>2.07</td>\n      <td>2.07</td>\n    </tr>\n    <tr>\n      <th>Iathenudil29</th>\n      <td>1</td>\n      <td>4.60</td>\n      <td>4.60</td>\n    </tr>\n    <tr>\n      <th>Iathem87</th>\n      <td>1</td>\n      <td>3.19</td>\n      <td>3.19</td>\n    </tr>\n    <tr>\n      <th>Iasursti71</th>\n      <td>1</td>\n      <td>1.66</td>\n      <td>1.66</td>\n    </tr>\n    <tr>\n      <th>Iasurriacal29</th>\n      <td>1</td>\n      <td>4.07</td>\n      <td>4.07</td>\n    </tr>\n    <tr>\n      <th>Iarallo65</th>\n      <td>1</td>\n      <td>1.75</td>\n      <td>1.75</td>\n    </tr>\n    <tr>\n      <th>Iana95</th>\n      <td>1</td>\n      <td>3.10</td>\n      <td>3.10</td>\n    </tr>\n    <tr>\n      <th>Ialidru40</th>\n      <td>1</td>\n      <td>3.16</td>\n      <td>3.16</td>\n    </tr>\n    <tr>\n      <th>Iadueria43</th>\n      <td>1</td>\n      <td>1.71</td>\n      <td>1.71</td>\n    </tr>\n    <tr>\n      <th>Hyaduesu61</th>\n      <td>1</td>\n      <td>4.23</td>\n      <td>4.23</td>\n    </tr>\n    <tr>\n      <th>Hisridru55</th>\n      <td>1</td>\n      <td>3.08</td>\n      <td>3.08</td>\n    </tr>\n    <tr>\n      <th>Hilaerin92</th>\n      <td>1</td>\n      <td>3.61</td>\n      <td>3.61</td>\n    </tr>\n    <tr>\n      <th>Haerithp41</th>\n      <td>1</td>\n      <td>4.40</td>\n      <td>4.40</td>\n    </tr>\n    <tr>\n      <th>Hiasurria41</th>\n      <td>1</td>\n      <td>1.61</td>\n      <td>1.61</td>\n    </tr>\n    <tr>\n      <th>Hiarideu73</th>\n      <td>1</td>\n      <td>2.50</td>\n      <td>2.50</td>\n    </tr>\n    <tr>\n      <th>Heunadil74</th>\n      <td>1</td>\n      <td>1.54</td>\n      <td>1.54</td>\n    </tr>\n    <tr>\n      <th>Heudai45</th>\n      <td>1</td>\n      <td>3.47</td>\n      <td>3.47</td>\n    </tr>\n    <tr>\n      <th>Heollyriap59</th>\n      <td>1</td>\n      <td>3.47</td>\n      <td>3.47</td>\n    </tr>\n    <tr>\n      <th>Heollyra92</th>\n      <td>1</td>\n      <td>3.07</td>\n      <td>3.07</td>\n    </tr>\n    <tr>\n      <th>Hariphos58</th>\n      <td>1</td>\n      <td>2.05</td>\n      <td>2.05</td>\n    </tr>\n    <tr>\n      <th>Hallysucal81</th>\n      <td>1</td>\n      <td>1.66</td>\n      <td>1.66</td>\n    </tr>\n    <tr>\n      <th>Hala31</th>\n      <td>1</td>\n      <td>1.02</td>\n      <td>1.02</td>\n    </tr>\n    <tr>\n      <th>Haisurra41</th>\n      <td>1</td>\n      <td>4.40</td>\n      <td>4.40</td>\n    </tr>\n    <tr>\n      <th>Hailaphos89</th>\n      <td>1</td>\n      <td>3.81</td>\n      <td>3.81</td>\n    </tr>\n    <tr>\n      <th>Haestyphos66</th>\n      <td>1</td>\n      <td>1.97</td>\n      <td>1.97</td>\n    </tr>\n    <tr>\n      <th>Iskosian40</th>\n      <td>1</td>\n      <td>3.07</td>\n      <td>3.07</td>\n    </tr>\n  </tbody>\n</table>\n<p>576 rows × 3 columns</p>\n</div>",
      "text/plain": "               Purchase Count  Average Purchase Price  Total Purchase Value\nSN                                                                         \nLisosia93                   5                    3.79                 18.96\nIral74                      4                    3.40                 13.62\nIdastidru52                 4                    3.86                 15.45\nAsur53                      3                    2.48                  7.44\nInguron55                   3                    3.70                 11.11\nAina42                      3                    3.07                  9.22\nIlarin91                    3                    4.23                 12.70\nIdai61                      3                    2.74                  8.23\nUmolrian85                  3                    2.71                  8.13\nIalallo29                   3                    3.95                 11.84\nTyisur83                    3                    1.79                  5.36\nTyidaim51                   3                    3.94                 11.83\nPheodaisun84                3                    2.77                  8.31\nHiaral50                    3                    1.40                  4.19\nHaillyrgue51                3                    3.17                  9.50\nZontibe81                   3                    2.68                  8.03\nIri67                       3                    3.79                 11.37\nHada39                      3                    2.86                  8.57\nRaesty92                    3                    2.91                  8.73\nRarallo90                   3                    3.02                  9.05\nChadolyla44                 3                    3.82                 11.46\nSaedaiphos46                3                    2.94                  8.83\nSaistyphos30                3                    3.44                 10.33\nSiallylis44                 3                    3.46                 10.37\nChamimla85                  3                    2.10                  6.30\nSilaera56                   3                    2.83                  8.48\nChamjask73                  3                    4.61                 13.83\nChanastnya43                3                    2.94                  8.82\nStrithenu87                 3                    3.39                 10.18\nSondastsda82                3                    2.63                  7.89\n...                       ...                     ...                   ...\nHaerith37                   1                    1.66                  1.66\nIduelis31                   1                    1.10                  1.10\nHiral75                     1                    1.98                  1.98\nIdaisuir85                  1                    3.15                  3.15\nIdacal95                    1                    2.07                  2.07\nIathenudil29                1                    4.60                  4.60\nIathem87                    1                    3.19                  3.19\nIasursti71                  1                    1.66                  1.66\nIasurriacal29               1                    4.07                  4.07\nIarallo65                   1                    1.75                  1.75\nIana95                      1                    3.10                  3.10\nIalidru40                   1                    3.16                  3.16\nIadueria43                  1                    1.71                  1.71\nHyaduesu61                  1                    4.23                  4.23\nHisridru55                  1                    3.08                  3.08\nHilaerin92                  1                    3.61                  3.61\nHaerithp41                  1                    4.40                  4.40\nHiasurria41                 1                    1.61                  1.61\nHiarideu73                  1                    2.50                  2.50\nHeunadil74                  1                    1.54                  1.54\nHeudai45                    1                    3.47                  3.47\nHeollyriap59                1                    3.47                  3.47\nHeollyra92                  1                    3.07                  3.07\nHariphos58                  1                    2.05                  2.05\nHallysucal81                1                    1.66                  1.66\nHala31                      1                    1.02                  1.02\nHaisurra41                  1                    4.40                  4.40\nHailaphos89                 1                    3.81                  3.81\nHaestyphos66                1                    1.97                  1.97\nIskosian40                  1                    3.07                  3.07\n\n[576 rows x 3 columns]"
     },
     "execution_count": 76,
     "metadata": {},
     "output_type": "execute_result"
    }
   ],
   "source": [
    "#Create Top Spender dataframe\n",
    "top_spend = pd.DataFrame({'Purchase Count': sn_df, 'Average Purchase Price':sn_avg, 'Total Purchase Value':sn_price})\n",
    "\n",
    "top_spend.sort_values('Purchase Count', ascending=False)"
   ]
  },
  {
   "cell_type": "markdown",
   "metadata": {},
   "source": [
    "## Most Popular Items"
   ]
  },
  {
   "cell_type": "markdown",
   "metadata": {},
   "source": [
    "* Retrieve the Item ID, Item Name, and Item Price columns\n",
    "\n",
    "\n",
    "* Group by Item ID and Item Name. Perform calculations to obtain purchase count, item price, and total purchase value\n",
    "\n",
    "\n",
    "* Create a summary data frame to hold the results\n",
    "\n",
    "\n",
    "* Sort the purchase count column in descending order\n",
    "\n",
    "\n",
    "* Optional: give the displayed data cleaner formatting\n",
    "\n",
    "\n",
    "* Display a preview of the summary data frame\n",
    "\n"
   ]
  },
  {
   "cell_type": "code",
   "execution_count": 9,
   "metadata": {},
   "outputs": [
    {
     "data": {
      "text/html": [
       "<div>\n",
       "<style scoped>\n",
       "    .dataframe tbody tr th:only-of-type {\n",
       "        vertical-align: middle;\n",
       "    }\n",
       "\n",
       "    .dataframe tbody tr th {\n",
       "        vertical-align: top;\n",
       "    }\n",
       "\n",
       "    .dataframe thead th {\n",
       "        text-align: right;\n",
       "    }\n",
       "</style>\n",
       "<table border=\"1\" class=\"dataframe\">\n",
       "  <thead>\n",
       "    <tr style=\"text-align: right;\">\n",
       "      <th></th>\n",
       "      <th></th>\n",
       "      <th>Purchase Count</th>\n",
       "      <th>Item Price</th>\n",
       "      <th>Total Purchase Value</th>\n",
       "    </tr>\n",
       "    <tr>\n",
       "      <th>Item ID</th>\n",
       "      <th>Item Name</th>\n",
       "      <th></th>\n",
       "      <th></th>\n",
       "      <th></th>\n",
       "    </tr>\n",
       "  </thead>\n",
       "  <tbody>\n",
       "    <tr>\n",
       "      <th>178</th>\n",
       "      <th>Oathbreaker, Last Hope of the Breaking Storm</th>\n",
       "      <td>12</td>\n",
       "      <td>$4.23</td>\n",
       "      <td>$50.76</td>\n",
       "    </tr>\n",
       "    <tr>\n",
       "      <th>145</th>\n",
       "      <th>Fiery Glass Crusader</th>\n",
       "      <td>9</td>\n",
       "      <td>$4.58</td>\n",
       "      <td>$41.22</td>\n",
       "    </tr>\n",
       "    <tr>\n",
       "      <th>108</th>\n",
       "      <th>Extraction, Quickblade Of Trembling Hands</th>\n",
       "      <td>9</td>\n",
       "      <td>$3.53</td>\n",
       "      <td>$31.77</td>\n",
       "    </tr>\n",
       "    <tr>\n",
       "      <th>82</th>\n",
       "      <th>Nirvana</th>\n",
       "      <td>9</td>\n",
       "      <td>$4.90</td>\n",
       "      <td>$44.10</td>\n",
       "    </tr>\n",
       "    <tr>\n",
       "      <th>19</th>\n",
       "      <th>Pursuit, Cudgel of Necromancy</th>\n",
       "      <td>8</td>\n",
       "      <td>$1.02</td>\n",
       "      <td>$8.16</td>\n",
       "    </tr>\n",
       "  </tbody>\n",
       "</table>\n",
       "</div>"
      ],
      "text/plain": [
       "                                                     Purchase Count  \\\n",
       "Item ID Item Name                                                     \n",
       "178     Oathbreaker, Last Hope of the Breaking Storm             12   \n",
       "145     Fiery Glass Crusader                                      9   \n",
       "108     Extraction, Quickblade Of Trembling Hands                 9   \n",
       "82      Nirvana                                                   9   \n",
       "19      Pursuit, Cudgel of Necromancy                             8   \n",
       "\n",
       "                                                     Item Price  \\\n",
       "Item ID Item Name                                                 \n",
       "178     Oathbreaker, Last Hope of the Breaking Storm      $4.23   \n",
       "145     Fiery Glass Crusader                              $4.58   \n",
       "108     Extraction, Quickblade Of Trembling Hands         $3.53   \n",
       "82      Nirvana                                           $4.90   \n",
       "19      Pursuit, Cudgel of Necromancy                     $1.02   \n",
       "\n",
       "                                                     Total Purchase Value  \n",
       "Item ID Item Name                                                          \n",
       "178     Oathbreaker, Last Hope of the Breaking Storm               $50.76  \n",
       "145     Fiery Glass Crusader                                       $41.22  \n",
       "108     Extraction, Quickblade Of Trembling Hands                  $31.77  \n",
       "82      Nirvana                                                    $44.10  \n",
       "19      Pursuit, Cudgel of Necromancy                               $8.16  "
      ]
     },
     "execution_count": 9,
     "metadata": {},
     "output_type": "execute_result"
    }
   ],
   "source": []
  },
  {
   "cell_type": "markdown",
   "metadata": {},
   "source": [
    "## Most Profitable Items"
   ]
  },
  {
   "cell_type": "markdown",
   "metadata": {},
   "source": [
    "* Sort the above table by total purchase value in descending order\n",
    "\n",
    "\n",
    "* Optional: give the displayed data cleaner formatting\n",
    "\n",
    "\n",
    "* Display a preview of the data frame\n",
    "\n"
   ]
  },
  {
   "cell_type": "code",
   "execution_count": 10,
   "metadata": {
    "scrolled": true
   },
   "outputs": [
    {
     "data": {
      "text/html": [
       "<div>\n",
       "<style scoped>\n",
       "    .dataframe tbody tr th:only-of-type {\n",
       "        vertical-align: middle;\n",
       "    }\n",
       "\n",
       "    .dataframe tbody tr th {\n",
       "        vertical-align: top;\n",
       "    }\n",
       "\n",
       "    .dataframe thead th {\n",
       "        text-align: right;\n",
       "    }\n",
       "</style>\n",
       "<table border=\"1\" class=\"dataframe\">\n",
       "  <thead>\n",
       "    <tr style=\"text-align: right;\">\n",
       "      <th></th>\n",
       "      <th></th>\n",
       "      <th>Purchase Count</th>\n",
       "      <th>Item Price</th>\n",
       "      <th>Total Purchase Value</th>\n",
       "    </tr>\n",
       "    <tr>\n",
       "      <th>Item ID</th>\n",
       "      <th>Item Name</th>\n",
       "      <th></th>\n",
       "      <th></th>\n",
       "      <th></th>\n",
       "    </tr>\n",
       "  </thead>\n",
       "  <tbody>\n",
       "    <tr>\n",
       "      <th>178</th>\n",
       "      <th>Oathbreaker, Last Hope of the Breaking Storm</th>\n",
       "      <td>12</td>\n",
       "      <td>$4.23</td>\n",
       "      <td>$50.76</td>\n",
       "    </tr>\n",
       "    <tr>\n",
       "      <th>82</th>\n",
       "      <th>Nirvana</th>\n",
       "      <td>9</td>\n",
       "      <td>$4.90</td>\n",
       "      <td>$44.10</td>\n",
       "    </tr>\n",
       "    <tr>\n",
       "      <th>145</th>\n",
       "      <th>Fiery Glass Crusader</th>\n",
       "      <td>9</td>\n",
       "      <td>$4.58</td>\n",
       "      <td>$41.22</td>\n",
       "    </tr>\n",
       "    <tr>\n",
       "      <th>92</th>\n",
       "      <th>Final Critic</th>\n",
       "      <td>8</td>\n",
       "      <td>$4.88</td>\n",
       "      <td>$39.04</td>\n",
       "    </tr>\n",
       "    <tr>\n",
       "      <th>103</th>\n",
       "      <th>Singed Scalpel</th>\n",
       "      <td>8</td>\n",
       "      <td>$4.35</td>\n",
       "      <td>$34.80</td>\n",
       "    </tr>\n",
       "  </tbody>\n",
       "</table>\n",
       "</div>"
      ],
      "text/plain": [
       "                                                     Purchase Count  \\\n",
       "Item ID Item Name                                                     \n",
       "178     Oathbreaker, Last Hope of the Breaking Storm             12   \n",
       "82      Nirvana                                                   9   \n",
       "145     Fiery Glass Crusader                                      9   \n",
       "92      Final Critic                                              8   \n",
       "103     Singed Scalpel                                            8   \n",
       "\n",
       "                                                     Item Price  \\\n",
       "Item ID Item Name                                                 \n",
       "178     Oathbreaker, Last Hope of the Breaking Storm      $4.23   \n",
       "82      Nirvana                                           $4.90   \n",
       "145     Fiery Glass Crusader                              $4.58   \n",
       "92      Final Critic                                      $4.88   \n",
       "103     Singed Scalpel                                    $4.35   \n",
       "\n",
       "                                                     Total Purchase Value  \n",
       "Item ID Item Name                                                          \n",
       "178     Oathbreaker, Last Hope of the Breaking Storm               $50.76  \n",
       "82      Nirvana                                                    $44.10  \n",
       "145     Fiery Glass Crusader                                       $41.22  \n",
       "92      Final Critic                                               $39.04  \n",
       "103     Singed Scalpel                                             $34.80  "
      ]
     },
     "execution_count": 10,
     "metadata": {},
     "output_type": "execute_result"
    }
   ],
   "source": []
  }
 ],
 "metadata": {
  "anaconda-cloud": {},
  "kernel_info": {
   "name": "python3"
  },
  "kernelspec": {
   "display_name": "Python 3",
   "language": "python",
   "name": "python3"
  },
  "language_info": {
   "codemirror_mode": {
    "name": "ipython",
    "version": 3
   },
   "file_extension": ".py",
   "mimetype": "text/x-python",
   "name": "python",
   "nbconvert_exporter": "python",
   "pygments_lexer": "ipython3",
   "version": "3.7.3"
  },
  "latex_envs": {
   "LaTeX_envs_menu_present": true,
   "autoclose": false,
   "autocomplete": true,
   "bibliofile": "biblio.bib",
   "cite_by": "apalike",
   "current_citInitial": 1,
   "eqLabelWithNumbers": true,
   "eqNumInitial": 1,
   "hotkeys": {
    "equation": "Ctrl-E",
    "itemize": "Ctrl-I"
   },
   "labels_anchors": false,
   "latex_user_defs": false,
   "report_style_numbering": false,
   "user_envs_cfg": false
  },
  "nteract": {
   "version": "0.2.0"
  }
 },
 "nbformat": 4,
 "nbformat_minor": 2
}